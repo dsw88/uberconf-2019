{
 "cells": [
  {
   "cell_type": "markdown",
   "metadata": {},
   "source": [
    "# The Evolution of Java: 9, 10, 11, and 12\n",
    "This notebook contains my notes from the *Evolution of Java: 9, 10, 11, and 12* talk by Venkat Subramaniam at UberConf 2019. In this talk, he discussed and demoed the various new language and API features in Java 9, 10, and 11.\n",
    "\n",
    "### Release Cycle\n",
    "Java is now on a 6-month release cycle. This will change how a lot of organizations need to do upgrades. Instead of an every-5-years upgrade, the LTS releases will have shorter support periods.\n",
    "\n",
    "In this release cycle, features are still going to take the time they will take. Type inference in Java took 5 years until it was finally released in Java 10. New language features aren't going to magically get faster, but this faster release cycle will allow things like new API improvements to be added without having to wait for years.\n",
    "\n",
    "### Private Methods in Interfaces (9)\n",
    "Java 8 added default methods in interfaces:"
   ]
  },
  {
   "cell_type": "code",
   "execution_count": 7,
   "metadata": {},
   "outputs": [
    {
     "data": {
      "text/plain": [
       "42"
      ]
     },
     "execution_count": 7,
     "metadata": {},
     "output_type": "execute_result"
    }
   ],
   "source": [
    "public interface MyInterface {\n",
    "    default int getNumber() {\n",
    "        return 42;\n",
    "    }\n",
    "}\n",
    "\n",
    "public class MyClass implements MyInterface {}\n",
    "\n",
    "MyClass myClass = new MyClass();\n",
    "myClass.getNumber();"
   ]
  },
  {
   "cell_type": "markdown",
   "metadata": {},
   "source": [
    "Java 9 takes this further and adds the ability to have private methods in interfaces:"
   ]
  },
  {
   "cell_type": "code",
   "execution_count": 8,
   "metadata": {},
   "outputs": [
    {
     "data": {
      "text/plain": [
       "42"
      ]
     },
     "execution_count": 8,
     "metadata": {},
     "output_type": "execute_result"
    }
   ],
   "source": [
    "public interface PrivateMethodsInterface {\n",
    "    default int getNumber() {\n",
    "        return getTheNumber();\n",
    "    }\n",
    "    \n",
    "    private int getTheNumber() {\n",
    "        return 42;\n",
    "    }\n",
    "}\n",
    "\n",
    "public class PrivateMethodsClass implements PrivateMethodsInterface {}\n",
    "\n",
    "PrivateMethodsClass privateMethodsClass = new PrivateMethodsClass();\n",
    "privateMethodsClass.getNumber();"
   ]
  },
  {
   "cell_type": "markdown",
   "metadata": {},
   "source": [
    "### Try-with-Resources Improvements (9)\n",
    "Java has had try-with-resources since Java 7:"
   ]
  },
  {
   "cell_type": "code",
   "execution_count": 9,
   "metadata": {},
   "outputs": [
    {
     "name": "stdout",
     "output_type": "stream",
     "text": [
      "Hello\n",
      "Closing\n"
     ]
    }
   ],
   "source": [
    "public class Resource implements AutoCloseable {\n",
    "    public void op1() {\n",
    "        System.out.println(\"Hello\");\n",
    "    }\n",
    "    public void close() {\n",
    "        System.out.println(\"Closing\");\n",
    "    }\n",
    "}\n",
    "\n",
    "try(Resource resource = new Resource();) {\n",
    "    resource.op1();\n",
    "}"
   ]
  },
  {
   "cell_type": "markdown",
   "metadata": {},
   "source": [
    "You can now use an already existing resource, provided it is *final* or *effectively final*"
   ]
  },
  {
   "cell_type": "code",
   "execution_count": 13,
   "metadata": {},
   "outputs": [
    {
     "name": "stdout",
     "output_type": "stream",
     "text": [
      "Hello\n",
      "Closing\n"
     ]
    }
   ],
   "source": [
    "public void doSomething() {\n",
    "    final Resource resource2 = new Resource();\n",
    "    try(resource2) {\n",
    "        resource.op1();\n",
    "    }    \n",
    "}\n",
    "doSomething();"
   ]
  },
  {
   "cell_type": "markdown",
   "metadata": {},
   "source": [
    "### *_* is a Keyword (9)\n",
    "Other languages often have the variable name *_* mean \"I don't care about this value\". Java previously let you use that as a variable. Java 9 made *_* a keyword and won't let you use it as an identifier anymore. \n",
    "\n",
    "This is in preparation for adding support for adding language support for the \"I don't care about this value\" identifier in the future. You probably shouldn't have variables named *_* anyway..."
   ]
  },
  {
   "cell_type": "code",
   "execution_count": 15,
   "metadata": {},
   "outputs": [
    {
     "ename": "CompilationException",
     "evalue": "",
     "output_type": "error",
     "traceback": [
      "\u001b[1m\u001b[30m|   \u001b[1m\u001b[30mString \u001b[0m\u001b[1m\u001b[30m\u001b[41m\u001b[0m\u001b[1m\u001b[30m_ = \"Hello\"\u001b[0m",
      "\u001b[1m\u001b[31mas of release 9, '_' is a keyword, and may not be used as an identifier\u001b[0m",
      "",
      "\u001b[1m\u001b[30m|   \u001b[1m\u001b[30mString _ = \"Hello\"\u001b[0m\u001b[1m\u001b[30m\u001b[41m\u001b[0m\u001b[1m\u001b[30m\u001b[0m",
      "\u001b[1m\u001b[31mreached end of file while parsing\u001b[0m",
      ""
     ]
    }
   ],
   "source": [
    "String _ = \"Hello\""
   ]
  },
  {
   "cell_type": "markdown",
   "metadata": {},
   "source": [
    "### List.of, Map.of, Set.of (9)\n",
    "List.of is a nice way to create a list from known elements. It is better than Arrays.asList because it creates truly immutable lists. Here is an example of how Arrays.asList is not immutable:"
   ]
  },
  {
   "cell_type": "code",
   "execution_count": 9,
   "metadata": {},
   "outputs": [
    {
     "name": "stdout",
     "output_type": "stream",
     "text": [
      "[1, 2, 3, 4]\n"
     ]
    },
    {
     "ename": "EvalException",
     "evalue": "null",
     "output_type": "error",
     "traceback": [
      "\u001b[1m\u001b[31m---------------------------------------------------------------------------\u001b[0m",
      "\u001b[1m\u001b[31mjava.lang.UnsupportedOperationException: null\u001b[0m",
      "\u001b[1m\u001b[31m\tat java.base/java.util.AbstractList.add(AbstractList.java:153)\u001b[0m",
      "\u001b[1m\u001b[31m\tat java.base/java.util.AbstractList.add(AbstractList.java:111)\u001b[0m",
      "\u001b[1m\u001b[31m\tat .(#27:1)\u001b[0m"
     ]
    }
   ],
   "source": [
    "import java.util.List;\n",
    "import java.util.Arrays;\n",
    "\n",
    "List<Integer> numbers = Arrays.asList(1,2,3,4);\n",
    "System.out.println(numbers);\n",
    "numbers.add(0);"
   ]
  },
  {
   "cell_type": "markdown",
   "metadata": {},
   "source": [
    "The above code behaves as expected, throwing an *UnsupportedOperationException*. The following doesn't behave as expected, however:"
   ]
  },
  {
   "cell_type": "code",
   "execution_count": 10,
   "metadata": {},
   "outputs": [
    {
     "name": "stdout",
     "output_type": "stream",
     "text": [
      "[5, 2, 3, 4]\n"
     ]
    }
   ],
   "source": [
    "numbers.set(0, 5);\n",
    "System.out.println(numbers);"
   ]
  },
  {
   "cell_type": "markdown",
   "metadata": {},
   "source": [
    "It allows you to change elements in the list, so the collection is not immutable. Java 9 adds new methods that return collections that are actually immutable:"
   ]
  },
  {
   "cell_type": "code",
   "execution_count": 14,
   "metadata": {},
   "outputs": [
    {
     "name": "stdout",
     "output_type": "stream",
     "text": [
      "[1, 2, 3, 4]\n"
     ]
    },
    {
     "ename": "EvalException",
     "evalue": "null",
     "output_type": "error",
     "traceback": [
      "\u001b[1m\u001b[31m---------------------------------------------------------------------------\u001b[0m",
      "\u001b[1m\u001b[31mjava.lang.UnsupportedOperationException: null\u001b[0m",
      "\u001b[1m\u001b[31m\tat java.base/java.util.ImmutableCollections.uoe(ImmutableCollections.java:71)\u001b[0m",
      "\u001b[1m\u001b[31m\tat java.base/java.util.ImmutableCollections$AbstractImmutableList.set(ImmutableCollections.java:109)\u001b[0m",
      "\u001b[1m\u001b[31m\tat .(#37:1)\u001b[0m"
     ]
    }
   ],
   "source": [
    "numbers = List.of(1,2,3,4);\n",
    "System.out.println(numbers);\n",
    "numbers.set(0, 5); // This should fail"
   ]
  },
  {
   "cell_type": "markdown",
   "metadata": {},
   "source": [
    "There are also corresponding Set.of and Map.of methods:"
   ]
  },
  {
   "cell_type": "code",
   "execution_count": 20,
   "metadata": {},
   "outputs": [
    {
     "name": "stdout",
     "output_type": "stream",
     "text": [
      "[1, 2, 3, 4]\n",
      "{Zero=0, One=1, Two=2}\n"
     ]
    }
   ],
   "source": [
    "Set<Integer> someSet = Set.of(1,2,3,4);\n",
    "System.out.println(someSet);\n",
    "\n",
    "// This varargs function expects alternating key/value pairs\n",
    "Map<String, Integer> someMap = Map.of(\n",
    "    \"Zero\", 0,\n",
    "    \"One\", 1,\n",
    "    \"Two\", 2\n",
    ");\n",
    "System.out.println(someMap);"
   ]
  },
  {
   "cell_type": "markdown",
   "metadata": {},
   "source": [
    "### Streams Improvements (9 and 10)\n",
    "The *takeWhile* function is a nice addition to the streams API. Venkat said it can be thought of as the \"break\" in a traditional for loop. You can perform an action while a condition is true, then break out of the iteration:"
   ]
  },
  {
   "cell_type": "code",
   "execution_count": 24,
   "metadata": {},
   "outputs": [
    {
     "data": {
      "text/plain": [
       "[1, 2, 3, 4]"
      ]
     },
     "execution_count": 24,
     "metadata": {},
     "output_type": "execute_result"
    }
   ],
   "source": [
    "import java.util.stream.*;\n",
    "\n",
    "List.of(1,2,3,4,5,6,7)\n",
    "    .stream()\n",
    "    .takeWhile(i -> i < 5)\n",
    "    .collect(Collectors.toList());"
   ]
  },
  {
   "cell_type": "markdown",
   "metadata": {},
   "source": [
    "There is also a corresponding *dropWhile* function:"
   ]
  },
  {
   "cell_type": "code",
   "execution_count": 25,
   "metadata": {},
   "outputs": [
    {
     "data": {
      "text/plain": [
       "[5, 6, 7]"
      ]
     },
     "execution_count": 25,
     "metadata": {},
     "output_type": "execute_result"
    }
   ],
   "source": [
    "List.of(1,2,3,4,5,6,7)\n",
    "    .stream()\n",
    "    .dropWhile(i -> i < 5)\n",
    "    .collect(Collectors.toList());"
   ]
  },
  {
   "cell_type": "markdown",
   "metadata": {},
   "source": [
    "IntStream also has several new additions. In adddition to the existing open *range* function, there is now a closed *rangeClosed* function:"
   ]
  },
  {
   "cell_type": "code",
   "execution_count": 33,
   "metadata": {},
   "outputs": [
    {
     "name": "stdout",
     "output_type": "stream",
     "text": [
      "[0, 1, 2, 3, 4]\n",
      "[0, 1, 2, 3, 4, 5]\n"
     ]
    }
   ],
   "source": [
    "// Regular open range\n",
    "List<Integer> numbers = IntStream.range(0,5)\n",
    "    .boxed()\n",
    "    .collect(Collectors.toList());\n",
    "System.out.println(numbers);\n",
    "    \n",
    "// New closed range\n",
    "numbers = IntStream.rangeClosed(0,5)\n",
    "    .boxed()\n",
    "    .collect(Collectors.toList());\n",
    "System.out.println(numbers);"
   ]
  },
  {
   "cell_type": "markdown",
   "metadata": {},
   "source": [
    "There is also a new *iterate* method that allows you to do fancy looping variable steps like you could do in a for loop. Just like the for loop, it takes three arguments: An initial seed, a predicate, and a function to update the value after each predicate evaluation:"
   ]
  },
  {
   "cell_type": "code",
   "execution_count": 36,
   "metadata": {},
   "outputs": [
    {
     "data": {
      "text/plain": [
       "[0, 3, 6, 9, 12, 15, 18]"
      ]
     },
     "execution_count": 36,
     "metadata": {},
     "output_type": "execute_result"
    }
   ],
   "source": [
    "IntStream.iterate(0, i -> i < 20, i -> i + 3)\n",
    "    .boxed()\n",
    "    .collect(Collectors.toList());"
   ]
  },
  {
   "cell_type": "markdown",
   "metadata": {},
   "source": [
    "The *Collectors.toList()* function returns a mutable list. You can make an immutable list from a Stream with the new *Collectors.toUnmodifiableList()*. There are corresponding functions *Collectors.toUnmodifiableSet()* and Collectors.toUnmodifiableMap()*"
   ]
  },
  {
   "cell_type": "code",
   "execution_count": 50,
   "metadata": {},
   "outputs": [
    {
     "data": {
      "text/plain": [
       "[1, 2, 3, 4]"
      ]
     },
     "execution_count": 50,
     "metadata": {},
     "output_type": "execute_result"
    }
   ],
   "source": [
    "List.of(1,2,3,4)\n",
    "    .stream()\n",
    "    .collect(Collectors.toUnmodifiableList());"
   ]
  },
  {
   "cell_type": "markdown",
   "metadata": {},
   "source": [
    "### Optional Improvements (9, 10, and 11)\n",
    "Optional was introduced in Java 8. The speaker said that while this is great to use as the return value in methods, it should probably not be used as a parameter to a method. He said that method overloading is a much better way to make a method deal with an optional parameter. If Java had default method parameters you wouldn't even have to do that... :)\n",
    "\n",
    "There are some new methods in Optional. The *orElse* method returns the value if present or a default that you specify:"
   ]
  },
  {
   "cell_type": "code",
   "execution_count": 39,
   "metadata": {},
   "outputs": [
    {
     "data": {
      "text/plain": [
       "This is the default"
      ]
     },
     "execution_count": 39,
     "metadata": {},
     "output_type": "execute_result"
    }
   ],
   "source": [
    "Optional<String> myOptional = Optional.empty();\n",
    "myOptional.orElse(\"This is the default\")"
   ]
  },
  {
   "cell_type": "markdown",
   "metadata": {},
   "source": [
    "There is a corresponding method you can use to throw an exception:"
   ]
  },
  {
   "cell_type": "code",
   "execution_count": 43,
   "metadata": {},
   "outputs": [
    {
     "ename": "EvalException",
     "evalue": "Optional was missing",
     "output_type": "error",
     "traceback": [
      "\u001b[1m\u001b[31m---------------------------------------------------------------------------\u001b[0m",
      "\u001b[1m\u001b[31mjava.lang.RuntimeException: Optional was missing\u001b[0m",
      "\u001b[1m\u001b[31m\tat .lambda$do_it$$0(#75:1)\u001b[0m",
      "\u001b[1m\u001b[31m\tat java.base/java.util.Optional.orElseThrow(Optional.java:408)\u001b[0m",
      "\u001b[1m\u001b[31m\tat .(#75:1)\u001b[0m"
     ]
    }
   ],
   "source": [
    "myOptional.orElseThrow(() -> new RuntimeException(\"Optional was missing\"));"
   ]
  },
  {
   "cell_type": "markdown",
   "metadata": {},
   "source": [
    "An Optional also kind of can be thought of a stream that contains 0 or 1 values, so now the API lets you turn on into a Stream:"
   ]
  },
  {
   "cell_type": "code",
   "execution_count": 51,
   "metadata": {},
   "outputs": [
    {
     "data": {
      "text/plain": [
       "[Hello]"
      ]
     },
     "execution_count": 51,
     "metadata": {},
     "output_type": "execute_result"
    }
   ],
   "source": [
    "myOptional = Optional.of(\"Hello\");\n",
    "myOptional.stream()\n",
    "    .collect(Collectors.toUnmodifiableList());"
   ]
  },
  {
   "cell_type": "markdown",
   "metadata": {},
   "source": [
    "Also, as a complement to the already-existing Optional.isPresent(), you now have Optional.isEmpty():"
   ]
  },
  {
   "cell_type": "code",
   "execution_count": 53,
   "metadata": {},
   "outputs": [
    {
     "name": "stdout",
     "output_type": "stream",
     "text": [
      "Optional is missing\n"
     ]
    }
   ],
   "source": [
    "myOptional = Optional.empty();\n",
    "if(myOptional.isEmpty()) {\n",
    "    System.out.println(\"Optional is missing\");\n",
    "}"
   ]
  },
  {
   "cell_type": "markdown",
   "metadata": {},
   "source": [
    "### JShell REPL (9)\n",
    "Java 9 introduces a great new tool called JShell, which is a REPL for Java. It is awesome and works great for executing tidbits of code. As a matter of fact, JShell is what powers the Java kernel that this Jupyter notebook is using right now!"
   ]
  },
  {
   "cell_type": "markdown",
   "metadata": {},
   "source": [
    "### Type Inference (10)\n",
    "Type inference lets you leave off the initial type signature when it can be inferred by the compiler. This only works for local variables."
   ]
  },
  {
   "cell_type": "code",
   "execution_count": 49,
   "metadata": {},
   "outputs": [
    {
     "name": "stdout",
     "output_type": "stream",
     "text": [
      "[1, 2, 3, 4]\n"
     ]
    }
   ],
   "source": [
    "var list = List.of(1,2,3,4);\n",
    "System.out.println(list);"
   ]
  },
  {
   "cell_type": "markdown",
   "metadata": {},
   "source": [
    "### Easy Read and Write String (11)\n",
    "The Java NIO API has some easy static functions added for reading and writing files:"
   ]
  },
  {
   "cell_type": "code",
   "execution_count": 66,
   "metadata": {},
   "outputs": [
    {
     "name": "stdout",
     "output_type": "stream",
     "text": [
      "Hello!\n"
     ]
    }
   ],
   "source": [
    "import java.nio.file.Path;\n",
    "import java.nio.file.Files;\n",
    "\n",
    "// Write string\n",
    "var tempFilePath = Path.of(System.getProperty(\"java.io.tmpdir\"), \"testfile\");\n",
    "Files.writeString(tempFilePath, \"Hello!\");\n",
    "\n",
    "// Read string\n",
    "var fileContents = Files.readString(tempFilePath);\n",
    "System.out.println(fileContents);\n",
    "\n",
    "// Cleanup the temp file\n",
    "Files.delete(tempFilePath);"
   ]
  }
 ],
 "metadata": {
  "kernelspec": {
   "display_name": "Java",
   "language": "java",
   "name": "java"
  },
  "language_info": {
   "codemirror_mode": "text/x-java",
   "file_extension": ".java",
   "mimetype": "",
   "name": "Java",
   "nbconverter_exporter": "",
   "version": "1.8.0_121"
  }
 },
 "nbformat": 4,
 "nbformat_minor": 2
}
