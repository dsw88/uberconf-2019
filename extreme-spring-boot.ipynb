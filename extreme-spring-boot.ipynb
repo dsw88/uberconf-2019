{
 "cells": [
  {
   "cell_type": "markdown",
   "metadata": {},
   "source": [
    "# Extreme Spring Boot\n",
    "This notebook contains my notes from the *Extreme Spring Boot* talk by Craig Walls at UberConf 2019. I expected this talk to be a sort of \"Advanced Spring Boot\" class, but it was really more like \"Beginning Spring Boot Part 2\". As a result, I didn't hear a ton of new things but did get some useful tidbits.\n",
    "\n",
    "Much of the session was live-coding. It can be found at https://github.com/habuma/nfjs-samples in the *uberconf-2019* folder.\n",
    "\n",
    "### Improving Startup Time\n",
    "It isn't unusual to see 20-30 seconds startup time for reasonably sized apps.\n",
    "\n",
    "Spring does use reflection. Over time the Spring team has been trying to reduce usages of reflection, but there are still places where Spring uses reflection.\n",
    "\n",
    "Craig says startup time only matters in a few places:\n",
    "\n",
    "* Serverless functions (Lambda, etc.)\n",
    "* Integration tests\n",
    "* Development time\n",
    "\n",
    "While I agree with him that those are the most important, I would personally like fast startup everywhere. It can be tricky to have a load balancer health checking your app when it takes so long to start up.\n",
    "\n",
    "Some of Craig's suggestions to improve startup time:\n",
    "\n",
    "* Add the `spring-context-indexer` JAR on large projects\n",
    "    * The default behavior of component scanning the classpath at startup-time is slow.\n",
    "    * The indexer does component scanning at build-time instead of startup-time.\n",
    "    * This works well for big projects, but can actually be slower for really small projects (i.e. test it to see whether it works for yours)\n",
    "* Explicitly any actuators you don't need\n",
    "    * Do you need to do this for the endpoint and MBean? I think you do.\n",
    "* Upgrade to the latest version of Spring\n",
    "    * 2.1 improved startup time quite a bit over 2.0.\n",
    "    * Craig said 2.2 should improve startup time more.\n",
    "* Explicit `spring.config.location` \n",
    "    * Boot by default will look in multiple places for config. You can use this to configure exactly where to look for config\n",
    "* spring.jmx.enabled = false\n",
    "    * How does turning this off impact AppDynamics? I don't know if it relies on JMX for some things.\n",
    "* Make beans lazy by default\n",
    "    * Can use @Lazy on individual beans\n",
    "    * In 2.2 you'll be able to set a property that defaults all beans to lazy.\n",
    "* Functional bean definition (Ja-Fu)\n",
    "    * You register beans in code instead of using component scanning or other standard forms of config.\n",
    "    * This helps avoid things like having to do annotation processing\n",
    "    * This can have very big performance gains, but looks pretty ugly\n",
    "* GraalVM native image\n",
    "    * This is very bleeding-edge but has potential for huge improvements.\n",
    "\n",
    "Using Ja-Fu and GraalVM native image combination will net huge performance results, but is likely a huge pain to get set up at the moment, particularly the GraalVM piece."
   ]
  },
  {
   "cell_type": "markdown",
   "metadata": {},
   "source": [
    "### Using Spring DevTools\n",
    "Spring Boot has a spring-boot-devtools JAR that will help you at development time. To use it, just add `spring-boot-devtools` as a dependency to your project.\n",
    "\n",
    "I believe this works only when you use the Spring Boot plugin (`spring-boot:run`) to run your application. \n",
    "\n",
    "You don't need to worry about having this dependency in your POM file go to production with your application. When building the actual JAR file, the spring-boot-plugin won't ever add that JAR. Additionally, Spring Boot auto-configuration won't enable devtools when running inside a JAR or WAR file, even if devtools is available.\n",
    "\n",
    "Devtools will automatically restart your application when source files change. The restart only reloads some classes in the JVM, so it is much faster than the initial cold start."
   ]
  },
  {
   "cell_type": "markdown",
   "metadata": {},
   "source": [
    "### Properties\n",
    "Using `@ConfigurationProperties(prefix=\"myprefix\")` to add groupings of properties to a class.  This is handy for groupings of properties that are used in multiple places."
   ]
  },
  {
   "cell_type": "markdown",
   "metadata": {},
   "source": [
    "### Actuator\n",
    "Future session will discuss this more in-depth.\n",
    "\n",
    "All *management* properties that you can configure in Spring Boot are for the actuator. \n",
    "\n",
    "##### /env endpoint\n",
    "This endpoint shows information about the configured Spring Environment. You can use this to inspect all the PropertySources that have been configured. I just wrote some code to do this the other day while debugging and didn't realize it was in the actuator! "
   ]
  },
  {
   "cell_type": "markdown",
   "metadata": {},
   "source": [
    "### ASCII Art Banner\n",
    "You can use an image for the banner and it will convert to ASCII art!!! Sometimes the resulting art looks great, other times it looks terrible.\n",
    "\n",
    "The file has to be called *banner.fileExtension*, such as *banner.jpg*. And yes, it works with animated GIFs too."
   ]
  },
  {
   "cell_type": "markdown",
   "metadata": {},
   "source": [
    "### Takeaways\n",
    "I would like to try the following:\n",
    "\n",
    "* Attempt to use some of the performance suggestions to improve our startup time. Understand the tradeoffs that come with making those improvements.\n",
    "* Figure out how to get devtools working with an application when it is inside a Docker container. I would like to use docker-compose to easily wire up my app to dependencies, so it would be nice to be able to do that while still using devtools.\n",
    "* Get the FS logo and put it in as the ASCII art banner to see how it looks."
   ]
  }
 ],
 "metadata": {
  "kernelspec": {
   "display_name": "Java",
   "language": "java",
   "name": "java"
  },
  "language_info": {
   "codemirror_mode": "java",
   "file_extension": ".java",
   "mimetype": "text/x-java-source",
   "name": "Java",
   "pygments_lexer": "java",
   "version": "11.0.4+11-LTS"
  }
 },
 "nbformat": 4,
 "nbformat_minor": 2
}
