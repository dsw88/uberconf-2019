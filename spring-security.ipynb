{
 "cells": [
  {
   "cell_type": "markdown",
   "metadata": {},
   "source": [
    "# Spring Security\n",
    "This notebook contains my notes from the *Spring Security* talk by Craig Walls at UberConf 2019. I had hoped for more code demos, but there were a lot of slides. It was a good introduction to the project, however.\n",
    "\n",
    "The talk focused on securing a REST API using Spring Security. In particular, it built up towards using OAuth2+JWT to secure the application.\n",
    "\n",
    "### What is Spring Security?\n",
    "Spring Security is an extension to Spring. It has the following features:\n",
    "\n",
    "* Easy to get started.\n",
    "* Helps you implement both authentication and authorization.\n",
    "* Supports *many* security schemes.\n",
    "\n",
    "### Using Spring Security in Spring Boot\n",
    "Spring Boot auto-configuration will help you a bit with Spring Security, but not much. Most organizations have very distinct security needs, so Spring Boot can't really have a good generic default configuration that fits everyone. As a result, it defaults to simple username/password authentication. It creates a single user and a randomly generated password that it logs to the log file. It applies security on all paths, and has no authorization.\n",
    "\n",
    "Some initial simple properties that can change this:\n",
    "* `spring.security.user.name`\n",
    "* `spring.security.user.password`\n",
    "\n",
    "That's a pretty terrible way to configure username/password, however. Here's a better (but still imperfect) way to configure the username/password for your initial user:"
   ]
  },
  {
   "cell_type": "code",
   "execution_count": null,
   "metadata": {},
   "outputs": [],
   "source": [
    "@Configuration\n",
    "public class SecurityConfig extends WebSecurityConfigurerAdapter {\n",
    "    @Override\n",
    "    protected void configure(AuthenticationmanagerBuilder auth) throws Exception {\n",
    "        // Requires relational\n",
    "        auth.jdbcAuthentication()\n",
    "            .usersByUsernameQuery(\"select username, password, enabled from User where userid = ?\")\n",
    "            .authoritiesByUsernameQuery(\"select username, authority from Authorities where userid = ?\")\n",
    "        \n",
    "        // Much more flexible\n",
    "        auth.userDetailsService(userDetailsService)\n",
    "    }\n",
    "    \n",
    "    // You must provide a PasswordEncoder\n",
    "    @Bean\n",
    "    public PasswordEncoder passwordEncoder() {\n",
    "        return new BCryptPasswordEncoder(); // There are many other types of PasswordEncoder\n",
    "\n",
    "    }\n",
    "}"
   ]
  },
  {
   "cell_type": "markdown",
   "metadata": {},
   "source": [
    "When you are using Spring Security you can get the user information in several ways. One of the easiest is autowiring  the Principal object in your endpoint handler method."
   ]
  },
  {
   "cell_type": "markdown",
   "metadata": {},
   "source": [
    "### Security Schemes\n",
    "There are multiple ways to do authentication:\n",
    "* HTTP Basic\n",
    "* Oauth 1.0(a)\n",
    "* OAuth 2 (+JWT)\n",
    "* mTLS (mutual TLS)\n",
    "* Roll your own (bad idea)"
   ]
  },
  {
   "cell_type": "markdown",
   "metadata": {},
   "source": [
    "Of these, OAuth is the most common. \n",
    "\n",
    "### OAuth\n",
    "Here are some OAuth terms:\n",
    "* Authorization server - The entity that issues access tokens\n",
    "* Resource server - Your API that is secured with OAuth.\n",
    "* Resource owner - The entity that owns the resource\n",
    "* Resource wanter - The client that wants the resource\n",
    "* Bearer Access Token - The token that grants access to the data"
   ]
  },
  {
   "cell_type": "markdown",
   "metadata": {},
   "source": [
    "##### Grant Types\n",
    "OAuth supports multiple *Grant Types*:\n",
    "* *Authorization code* grant - Ask for an authorization code, then use that to ask for an access token. Also can get a refresh token back to get more access tokens when the token expires.\n",
    "* *Implicit* grant - Like authorization code, but get an access token back directly. No refresh token.\n",
    "* *Password* grant - Client acts on resource owner's behalf, providing credentials to the auth server.\n",
    "* *Client credentials* grant - Client acting on its own behalf, not on someone else's\n",
    "\n",
    "##### Verifying Access Tokens (without JWT)\n",
    "To verify an access token, the resource server needs to talk to authorization server on every request, asking if the given token is valid.\n",
    "\n",
    "##### Verifying Access Tokens (with JWT)\n",
    "JWTs are great because the identity of the user is part of the access token. This means the resource server doesn't talk to the authorization server when verifying access tokens. It just verifies that the JWT is correctly signed and looks at the identity information on the inside.\n",
    "\n",
    "We used JWTs at BYU and I really enjoyed using them. You have to be careful when using them, however. There can be many security gotchas because your application must do more of the validation work; it is best to use libraries for this to make sure everyone is doing the right thing. Additionally, token invalidation is very difficult using this scheme because you're not constantly checking a centralized identity system.\n",
    "\n",
    "### Authorization Server\n",
    "Spring Security provides a lot of help for the resource server side of things, but it also provides its own authorization server that you can set up and run. \n",
    "\n",
    "When running the authorization server, you provide a token store, as well as the list of clients to register. It seems to have a lot of similar functionality to the authorization server piece I used in WSO2.\n",
    "\n",
    "### Takeaways\n",
    "\n",
    "* I would like to try playing around with setting up a resource and authorization server using Spring Security.\n",
    "* Once I have done that, I would like to see if it would be useful at all to create a Spring Security starter that integrates with our identity and authorization services."
   ]
  }
 ],
 "metadata": {
  "kernelspec": {
   "display_name": "Java",
   "language": "java",
   "name": "java"
  },
  "language_info": {
   "codemirror_mode": "text/x-java",
   "file_extension": ".java",
   "mimetype": "",
   "name": "Java",
   "nbconverter_exporter": "",
   "version": "1.8.0_121"
  }
 },
 "nbformat": 4,
 "nbformat_minor": 4
}
