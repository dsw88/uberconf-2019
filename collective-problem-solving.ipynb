{
 "cells": [
  {
   "cell_type": "markdown",
   "metadata": {},
   "source": [
    "# Collective Problem Solving in Music, Science, Art, and Software\n",
    "This notebook contains my notes from the *Collective Problem Solving in Music, Science, Art, and Software* talk by Jessica Kerr at UberConf 2019. \n",
    "\n",
    "This session was the keynote on the first night of the conference. I probably wouldn't have gone to this if it were a session since I was mostly looking for straight technical topics, but it was the keynote so there was nothing else on! Having said that, I thought the speaker did a great job and I enjoyed the content.\n",
    "\n",
    "### The Florentine Camerata\n",
    "The Camerata was a small group of people meeting to reform polyphonic music. They wanted to have lyrics be more prevalent and to convey more types of emotion. The Camerata eventually invented the recitative, which in turn grew and evolved into the opera.\n",
    "\n",
    "### Other Cameratas\n",
    "Jessica shared examples of other groups she considers to be \"Cameratas\" through history, including in software:\n",
    "\n",
    "* Club of Honest Whigs\n",
    "* Extreme Programming group\n",
    "* ThoughtWorks London\n",
    "* Spring development team\n",
    "\n",
    "She cited how all these groups had examples of many people who went on to become famous and influential in their domains. This led into her point that \"Great teams make great people\"\n",
    "\n",
    "Jessica believes that it is the team created in these Cameratas that built the people, not the other way around.\n",
    "\n",
    "### Symmathesis\n",
    "*Symmathesis* is a word invented by Nora Bateson to describe the interactions in complex systems. Nora is quoted as saying:\n",
    "\n",
    "```\n",
    "A system is not the sum of its parts; it is a product of their interactions\n",
    "…and their parts are a product of past interactions\n",
    "```\n",
    "\n",
    "Jessica says that teams of people, and the systems they interact with, are a form of symmathesis. She said the following:\n",
    "\n",
    "```\n",
    "Great developers aren't born. They aren't trained. Great deveopers are symmathesized\n",
    "```\n",
    "\n",
    "I belive she means this to convey the idea that you can't just assimilate knowledge and be great. You have to work and collaborate with others in order to become great.\n",
    "\n",
    "### Takeaways\n",
    "I like the idea of symmathesis when applied to teams. I have observed that product of interactions on several teams. Cliché as it may sound, teamwork really does produce great results. I would do better to stop keeping my head down so much and go talk and collaborate with teams (both my org chart team and other less formal ones) more often."
   ]
  }
 ],
 "metadata": {
  "kernelspec": {
   "display_name": "Java",
   "language": "java",
   "name": "java"
  },
  "language_info": {
   "codemirror_mode": "text/x-java",
   "file_extension": ".java",
   "mimetype": "",
   "name": "Java",
   "nbconverter_exporter": "",
   "version": "1.8.0_121"
  }
 },
 "nbformat": 4,
 "nbformat_minor": 2
}
