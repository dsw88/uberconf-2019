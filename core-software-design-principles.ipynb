{
 "cells": [
  {
   "cell_type": "markdown",
   "metadata": {},
   "source": [
    "# Core Software Design Principles\n",
    "Venkat Subramaniam\n",
    "\n",
    "\"Time-tested software design principles\"\n",
    "\n",
    "Strategic design:\n",
    "* High-level design focused on major ideas (classes, packages, etc.)\n",
    "* Not set in stone, it should be evolving over time\n",
    "\n",
    "Tactical design:\n",
    "* Focused on low-level details (methods, properties, etc.)\n",
    "* Test, stop and think, write design and code\n",
    "\n",
    "Design principles, once understood by a team, are good ways to communicate with the team. Example of code review with comments like \"Keep this DRY\" and \"YAGNI\"\n",
    "\n",
    "How to evaluate code?\n",
    "* Cohesion - Want to be high (does one thing well)\n",
    "* Coupling - Want to be low\n",
    "\n",
    "### Important Principles\n",
    "#### Don't Repeat Yourself (DRY)\n",
    "Every piece of knowledge should have a single source of representation\n",
    "\n",
    "Not just applies to duplication of code, also applies to duplication of effort. \n",
    "\n",
    "Gave example of a company doing validation on both frontend and backend systems, by different teams. He gave two suggestions for this particular case:\n",
    "\n",
    "1. Code generation (e.g. Kotlin.js)\n",
    "2. AJAX\n",
    "\n",
    "\"Never do anything more than twice that you don't enjoy doing\". Manual testing is a violation of the DRY principle. Gave example of even small things like manually turning on/off the WiFi or stopping/starting a server.\n",
    "\n",
    "#### You Ain't Gonna Need It (YAGNI)\n",
    "Want to focus on writing code that is needed. Gave example of writing mountains of validation code for cases that will likely never happen.\n",
    "\n",
    "Cost of writing code now vs later:\n",
    "* $now > $later => Postpone until later\n",
    "* $now == $later => Postpone until later\n",
    "* $now < $later => What is the probability of needing that code? High, now. Low, later\n",
    "\n",
    "\"Last reponsible moment\". Not procrastination; LRM is the last moment before it becomes procrastination. YAGNIy - You ain't gonna need it (yet) - Postpone until the last LRM\n",
    "\n",
    "#### Single Responsibility Principle\n",
    "\"What does responsibility even mean\"? Example of this code that was supposed to violate SRP:\n",
    "```\n",
    "process() {\n",
    "  shapes = getShapes()\n",
    "  transform(shapes)\n",
    "  display(shapes)\n",
    "}\n",
    "```\n",
    "\n",
    "SRP == cohesion. It should be focused and do one thing\n",
    "\n",
    "Long methods:\n",
    "* Hard to understand\n",
    "* Hard to maintain\n",
    "* Hard to debug\n",
    "* Hard to test\n",
    "* Long methods become longer\n",
    "* Lead to duplication of code\n",
    "* Hard to reuse\n",
    "* Have low cohesion and high coupling (diagonal opposite of good design)\n",
    "\n",
    "How long is too long? Hard to agree on a length. SLAP: Single Level of Abstration Principle. Shouldn't have multiple levels of abstraction in them.\n",
    "\n",
    "#### Open-Closed Principle\n",
    "Open for extension, but closed for modification"
   ]
  },
  {
   "cell_type": "code",
   "execution_count": 4,
   "metadata": {},
   "outputs": [
    {
     "data": {
      "text/plain": [
       "com.twosigma.beaker.javash.bkrf477ee95.Engine"
      ]
     },
     "execution_count": 4,
     "metadata": {},
     "output_type": "execute_result"
    }
   ],
   "source": [
    "class Engine {\n",
    "    public Engine() {\n",
    "        \n",
    "    }\n",
    "}"
   ]
  },
  {
   "cell_type": "code",
   "execution_count": 8,
   "metadata": {},
   "outputs": [
    {
     "data": {
      "text/plain": [
       "com.twosigma.beaker.javash.bkrf477ee95.Car"
      ]
     },
     "execution_count": 8,
     "metadata": {},
     "output_type": "execute_result"
    }
   ],
   "source": [
    "class Car {\n",
    "    private int year;\n",
    "    private Engine engine;\n",
    "    \n",
    "    public Car(int year, Engine engine) {\n",
    "        this.year = year;\n",
    "        this.engine = engine;\n",
    "    }\n",
    "    \n",
    "    // To string method\n",
    "    @Override\n",
    "    public String toString() {\n",
    "        return year + \":\" + engine;\n",
    "    }\n",
    "}"
   ]
  },
  {
   "cell_type": "code",
   "execution_count": 10,
   "metadata": {},
   "outputs": [
    {
     "name": "stdout",
     "output_type": "stream",
     "text": [
      "2019:com.twosigma.beaker.javash.bkrf477ee95.Engine@10bf1087\n"
     ]
    },
    {
     "data": {
      "text/plain": [
       "null"
      ]
     },
     "execution_count": 10,
     "metadata": {},
     "output_type": "execute_result"
    }
   ],
   "source": [
    "Car car1 = new Car(2019, new Engine());\n",
    "System.out.println(car1);"
   ]
  },
  {
   "cell_type": "code",
   "execution_count": 12,
   "metadata": {},
   "outputs": [
    {
     "ename": "cannot find symbol",
     "evalue": "cannot find symbol",
     "output_type": "error",
     "text": "cannot find symbol\n  symbol:   variable car1\n  location: class com.twosigma.beaker.javash.bkrf477ee95.BeakerWrapperClass1261714175Ide06fbf7357164e7087202fcf477e5e67\n Car car2 = new Car(car1)\n                    ^   ^  \n\n",
     "traceback": [
      "\u001b[1;31mcannot find symbol\u001b[0;0m",
      "\u001b[1;31m  symbol:   variable car1\u001b[0;0m",
      "\u001b[0;31m  location: class com.twosigma.beaker.javash.bkrf477ee95.BeakerWrapperClass1261714175Ide06fbf7357164e7087202fcf477e5e67\u001b[0;0m",
      "\u001b[0;31m Car car2 = new Car(car1)\u001b[0;0m",
      "\u001b[0;31m                    ^   ^  \u001b[0;0m"
     ]
    }
   ],
   "source": [
    "Car car2 = new Car(car1); // Java doesn't have a default copy constructor, but effective Java says to use a copy constructor"
   ]
  },
  {
   "cell_type": "markdown",
   "metadata": {},
   "source": [
    "Gave example of adding a copy constructor to the above code, then adding a new type of Engine (TurboEngine). Then wrote code in the copy constructor for Car to check type of engine. Violatoin of OCP.\n",
    "\n",
    "Solution was to make copy constructor protected and call it from clone() method."
   ]
  },
  {
   "cell_type": "markdown",
   "metadata": {},
   "source": [
    "#### Liskov Substitution Principle\n",
    "Use inheritance only for substitutability and not for reuse. If an object of B wants to use an object of A, then use delegation. If an object of B should be used where an object of A is expected, then use inheritance\n",
    "\n",
    "the services of a derlived class should require no more and promise no less than the corresponding services of the base class. \"Am I honoring the written and implied contract of the inherited class?\" Implied contract is harder to honor.\n",
    "\n",
    "LSP in Java: \n",
    "* Good\n",
    "  * An intance method can't have a restrictive privilege than the base\n",
    "  * An overriding method can't throw any new exception that the base method is not throwing\n",
    "* Bad\n",
    "  * Example of Stack extending Vector in Java\n",
    "\n",
    "#### Dependency Inversion Principle\n",
    "Depend on an interface and not on a class. Example of Venkat in a hotel wanting a clock, but really needing an alarm, which the TV had.\n",
    "\n",
    "Code examples on his site"
   ]
  },
  {
   "cell_type": "code",
   "execution_count": null,
   "metadata": {},
   "outputs": [],
   "source": []
  }
 ],
 "metadata": {
  "kernelspec": {
   "display_name": "Java",
   "language": "java",
   "name": "java"
  },
  "language_info": {
   "codemirror_mode": "text/x-java",
   "file_extension": ".java",
   "mimetype": "",
   "name": "Java",
   "nbconverter_exporter": "",
   "version": "1.8.0_121"
  }
 },
 "nbformat": 4,
 "nbformat_minor": 2
}
