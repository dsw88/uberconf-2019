{
 "cells": [
  {
   "cell_type": "markdown",
   "metadata": {},
   "source": [
    "# Spring Boot Actuator\n",
    "This notebook contains my notes from the *Spring Boot Actuator* talk by Craig Walls at UberConf 2019. In this talk, he gave a nice tour of the actuator, showing how to use and extend it.\n",
    "\n",
    "Much of the session was live-coding. It can be found at https://github.com/habuma/nfjs-samples in the *uberconf-2019* folder.\n",
    "\n",
    "### Adding the Actuator\n",
    "Adding the `spring-boot-starter-actuator` starter will automatically load and configure the actuator in your application.\n",
    "\n",
    "All endpoints are under `/actuator`. As a result you can easily secure all the actuator endpoints using something like Spring Security. At FS we use a different port that has network firewalls protecting it, but authorizing the path is another solution.\n",
    "\n",
    "Hitting the root path `/actuator` will give you some HAL hypmermedia links that give you the available actions in the actuator. What you see will depend on what endpoints you have turned on. By default, only `/actuator/info` and `/actuator/health` are turned on.\n",
    "\n",
    "### Info Endpoint\n",
    "By default, the `/actuator/info` endpoint gives you nothing. You can add to it in several ways:\n",
    "\n",
    "First, you can add to it by setting static properties from your `application.properties` file:\n",
    "\n",
    "```\n",
    "info.support.email=support@example.xom\n",
    "info.support.phone=555-555-5555\n",
    "```\n",
    "\n",
    "Any property prefixed with `info.` will be placed in the info endpoint.\n",
    "\n",
    "In addition to static configuration, you can do the usual dynamic property replacement in the configuration file too:\n",
    "\n",
    "```\n",
    "info.serverPort: ${local.server.port}\n",
    "```\n",
    "\n",
    "This is still pretty limited because you can't use the property files to pull values from somewhere like a database. You can obtain these more dynamic values by adding an `InfoContributor`. The below is a (somewhat silly) example of providing a value for the `/actuator/info` endpoint:"
   ]
  },
  {
   "cell_type": "code",
   "execution_count": 4,
   "metadata": {},
   "outputs": [],
   "source": [
    "%maven org.springframework:spring-beans:5.1.8.RELEASE\n",
    "%maven org.springframework.boot:spring-boot-actuator:2.1.5.RELEASE\n",
    "\n",
    "import org.springframework.stereotype.Component;\n",
    "import org.springframework.boot.actuate.info.InfoContributor;\n",
    "import org.springframework.boot.actuate.info.Info.Builder;\n",
    "\n",
    "@Component\n",
    "public class RandomInfoContributor implements InfoContributor {\n",
    "\n",
    "    @Override\n",
    "    public void contribute(Builder builder) {\n",
    "        double random = Math.random();\n",
    "        builder.withDetail(\"random\", random);\n",
    "    }\n",
    "\n",
    "}"
   ]
  },
  {
   "cell_type": "markdown",
   "metadata": {},
   "source": [
    "You can add build information from the Maven POM file by adding the `build-info` goal to the spring-boot-plugin executions.\n",
    "\n",
    "You can also add Git commit information using the git-commit-id-plugin. You can choose 'full' or 'simple' in the actuator config."
   ]
  },
  {
   "cell_type": "markdown",
   "metadata": {},
   "source": [
    "### Health Endpoint\n",
    "Available at `/actuator/health`. The health endpoint isn't just a simple heartbeat up/down. It reports the aggregate health of all the health indicators in the application as well.\n",
    "\n",
    "All indicators need to report UP for the health endpoint to report UP.\n",
    "\n",
    "A lot of health indicators are available and configured out-of-the-box. For example, when you use Spring Boot to add a DataSource, there will be a corresponding health indicator for it. There is always a disk space indicator configured as well.\n",
    "\n",
    "By default the endpoint just shows the aggregate UP/DOWN. You can set `managment.endpoint.health.show-details=always` to make the endpoint show all the health indicator statuses in addition to the aggregate.\n",
    "\n",
    "You can also easily implement your own health indicators. Here's a really silly example that reports DOWN about half the time using a random number generator:"
   ]
  },
  {
   "cell_type": "code",
   "execution_count": 9,
   "metadata": {},
   "outputs": [],
   "source": [
    "import org.springframework.boot.actuate.health.HealthIndicator;\n",
    "import org.springframework.boot.actuate.health.Health;\n",
    "\n",
    "@Component\n",
    "public class RandomHealthIndicator implements HealthIndicator {\n",
    "    \n",
    "    @Override\n",
    "    public Health health() {\n",
    "        double random = Math.random();\n",
    "        if(random > 0.5) {\n",
    "            return Health\n",
    "                .up()\n",
    "                .withDetail(\"reason\", \"Number is > 0.5\")\n",
    "                .build();\n",
    "        }\n",
    "        \n",
    "        return Health\n",
    "            .down()\n",
    "            .withDetail(\"reason\", \"Number is <= 0.5\")\n",
    "            .build();\n",
    "    }\n",
    "\n",
    "}"
   ]
  },
  {
   "cell_type": "markdown",
   "metadata": {},
   "source": [
    "You can also see individual health indicator information at `/actuator/health/{indicator}`\n",
    "\n",
    "**Question**: Are health indicator statuses periodically checked on a schedule, or are they only checked when you call  the actuator health endpoint? I'm guessing it's only when called.\n",
    "\n",
    "### Enabling Other Actuator Endpoints\n",
    "You can enable actuator endpoints using the following config property:\n",
    "\n",
    "```\n",
    "management.endpoints.web.exposure.include=*\n",
    "```\n",
    "\n",
    "The above example enables them all. You can also just use a comma-separated list to enable only some of them. There is also a corresponding `exclude` property that allows you to exclude actuator endpoints."
   ]
  },
  {
   "cell_type": "markdown",
   "metadata": {},
   "source": [
    "### Audit Events Endpoint\n",
    "Available at `/actuator/auditevents`. Craig said this is useful when you are using Spring Security. This endpoint is registered as a listener for the audit events generated by Spring Security. This means things like failed logins will show up here. \n",
    "\n",
    "### Beans Endpoint\n",
    "Available at `/actuator/beans`. This contains information for all the beans that are registered and available in your application context. It's a lot of information, but tells you exactly what Spring has instantiated.\n",
    "\n",
    "### Caches Endpoint\n",
    "This endpoint is useful if you are using a cache, such as Redis or Caffeine. If you have configured it using Spring Boot then you can see information about the cache, and can even do actions like purging it (I think).\n",
    "\n",
    "### Conditions Endpoint\n",
    "This endpoint gives information about the conditions considered during auto-configuration (missing bean, etc.). It will tell you the conditions that succeeded, failed, etc. Craig said this can be very helpful in figuring out why Spring Boot did what it did during startup and autoconfiguration.\n",
    "\n",
    "### Env Endpoint\n",
    "This endpoint was covered more in Craig's *Extreme Spring Boot* session. It contains information about the PropertySources in the Spring Environment.\n",
    "\n",
    "In addition to viewing the top-level Environment information, you can use `/env/{propertyName}` to see which PropertySources (if any) provide a specific property.\n",
    "\n",
    "### Loggers Endpoint\n",
    "This endpoint shows configured and effective logging level for every package in the application. \n",
    "\n",
    "The *configured* level(if present) shows levels that were explicitly configured somewhere. For example, if you see *configured=Info*, it means that someone explicitly set that package to Info-level logging somewhere. *Effective* level means the package was either explicitly configured **or** inherited from a parent package.\n",
    "\n",
    "You can send a POST to these endpoints to change your logging level on packages.\n",
    "\n",
    "### Scheduled Tasks Endpoint\n",
    "This endpoint shows the scheduled tasks in your application.\n",
    "\n",
    "### Http Trace Endpoint\n",
    "This endpoint remembers information about the last *n* HTTP requests. It's a small number (like 100), so I'm not sure what practical utility this has for applications of any sufficient scale. Craig didn't say much about this endpoint.\n",
    "\n",
    "### Mappings\n",
    "This endpoint shows all the Spring MVC request mapping information for your application. This can be helpful to figure out why your routing isn't working the way you think it should."
   ]
  },
  {
   "cell_type": "markdown",
   "metadata": {},
   "source": [
    "### JMX in Actuator\n",
    "By default, the actuator exposes *all* its endpoints over JMX. You have to explicitly turn this off if you don't want it."
   ]
  },
  {
   "cell_type": "markdown",
   "metadata": {},
   "source": [
    "### Creating your own actuator endpoint\n",
    "It's pretty easy to make your own actuator endpoints:"
   ]
  },
  {
   "cell_type": "code",
   "execution_count": 12,
   "metadata": {},
   "outputs": [],
   "source": [
    "import org.springframework.boot.actuate.endpoint.annotation.Endpoint;\n",
    "import org.springframework.boot.actuate.endpoint.annotation.ReadOperation;\n",
    "\n",
    "@Component\n",
    "@Endpoint(id=\"uberconf\", enableByDefault=true)\n",
    "public class UberConfEndpoint {\n",
    "\n",
    "    @ReadOperation\n",
    "    public String getMagicPhrase() {\n",
    "        return \"Some Magic Phrase\";\n",
    "    }\n",
    "    \n",
    "}"
   ]
  },
  {
   "cell_type": "markdown",
   "metadata": {},
   "source": [
    "There is a corresponding `@WriteOperation` annotation that you can use when creating actuator endpoints.\n",
    "\n",
    "### Spring Boot Admin UI\n",
    "CodeCentric makes a Spring Boot Admin console that your actuators can hook into: https://github.com/codecentric/spring-boot-admin. This client is *NOT* made by the Spring team; it is from a different organization.\n",
    "\n",
    "You run the console as a separate application, then you have your Spring Boot application add a client library to talk to the console. This client will report your actuator information to the admin console."
   ]
  },
  {
   "cell_type": "markdown",
   "metadata": {},
   "source": [
    "### Metrics Endpoint\n",
    "This endpoint exposes metrics of all sorts in your Spring application. There are a lot of metrics supported out-of-the-box with Spring Boot. \n",
    "\n",
    "Micrometer is the library used for metrics in Spring Boot. This allows you to not only use the actuator for metrics, but also send those same metrics to other logging/metrics platforms like NewRelic.\n",
    "\n",
    "You can also add your own metrics very easily. Just autowire a @MeterRegistry into your class and use it to report metrics:"
   ]
  },
  {
   "cell_type": "code",
   "execution_count": 17,
   "metadata": {},
   "outputs": [],
   "source": [
    "%maven io.micrometer:micrometer-core:1.2.0\n",
    "\n",
    "import org.springframework.beans.factory.annotation.Autowired;\n",
    "import io.micrometer.core.instrument.MeterRegistry;\n",
    "\n",
    "@Component\n",
    "@Endpoint(id=\"uberconf\", enableByDefault=true)\n",
    "public class MyMetricsExample {\n",
    "\n",
    "    private final MeterRegistry registry;\n",
    "    \n",
    "    @Autowired\n",
    "    public MyMetricsExample(MeterRegistry registry) {\n",
    "        this.registry = registry;\n",
    "    }\n",
    "    \n",
    "    public void doSomething() {\n",
    "        // do something here\n",
    "        \n",
    "        // increment a counter metric\n",
    "        registry.counter(\"uberconf\", \"hello\", \"world\").increment();\n",
    "    }\n",
    "    \n",
    "}"
   ]
  },
  {
   "cell_type": "markdown",
   "metadata": {},
   "source": [
    "### Takeaways\n",
    "* I should look at what health indicators are in our applications, as well as what indicators we could add. \n",
    "    * The aggregate health status would be a good thing to hook up to an Apica check\n",
    "* Spring Cloud Config Server has its own health indicator in the config client. Perhaps this is another reason to use Spring Cloud Config?\n",
    "* I should check in AppDynamics to see if JMX beans from the actuator are there.\n",
    "* Much of the dashboards and alerts that we put in Splunk for our applications can be done more efficiently using metrics instead of logging."
   ]
  }
 ],
 "metadata": {
  "kernelspec": {
   "display_name": "Java",
   "language": "java",
   "name": "java"
  },
  "language_info": {
   "codemirror_mode": "java",
   "file_extension": ".java",
   "mimetype": "text/x-java-source",
   "name": "Java",
   "pygments_lexer": "java",
   "version": "11.0.4+11-LTS"
  }
 },
 "nbformat": 4,
 "nbformat_minor": 2
}
