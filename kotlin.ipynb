{
 "cells": [
  {
   "cell_type": "markdown",
   "metadata": {},
   "source": [
    "# Kotlin\n",
    "This notebook contains my notes from the *Kotlin Fundamentals* and *Kotlin: Beyond the Basics* sessions by Ken Kousen at *UberConf 2019*. \n",
    "\n",
    "Ken is the author of the upcoming [Kotlin Cookbook](https://www.amazon.com/Kotlin-Cookbook-Problem-Focused-Ken-Kousen/dp/1492046671). He also has a [GitHub repository](https://github.com/kousen/kotlin-cookbook) with code examples from his cookbook.\n",
    "\n",
    "### Kotlin highlights\n",
    "Ken first highlighted some of the main distinctions of Kotlin:\n",
    "* JVM language, interoperable with Java\n",
    "* Statically typed and statically bound by default\n",
    "* Null safety at the compiler level\n",
    "\n",
    "Ken said that Kotlin is a Frankenstein of sorts that borrows almost all its language features and syntax from other languages. He gave these examples:\n",
    "\n",
    "* Closures implemented very similar to Groovy's closures.\n",
    "* Type system is similar to Scala\n",
    "* Coroutines are similar to those available in .NET\n",
    "\n",
    "Semicolons are optional and the community discourages using them.\n",
    "\n",
    "### Kotlin Examples\n",
    "Ken spent most of these two sessions giving examples in Kotlin.\n",
    "\n",
    "#### Top-level Functions\n",
    "Functions don't need to be in a class, they can be declared at the top-level as well:"
   ]
  },
  {
   "cell_type": "code",
   "execution_count": 1,
   "metadata": {},
   "outputs": [
    {
     "name": "stdout",
     "output_type": "stream",
     "text": [
      "Hello David\n"
     ]
    },
    {
     "data": {
      "text/plain": [
       "null"
      ]
     },
     "execution_count": 1,
     "metadata": {},
     "output_type": "execute_result"
    }
   ],
   "source": [
    "fun printHello() {\n",
    "    val name = \"David\"\n",
    "    println(\"Hello ${name}\")\n",
    "}\n",
    "printHello()"
   ]
  },
  {
   "cell_type": "markdown",
   "metadata": {},
   "source": [
    "The above function, when compiled to JVM bytecode, will be translated to a class named *FileNameKT*, where *FileName* is replaced with the name of the Kotlin file where the class is declared. The top-level functions are declared in this class as static methods. Kotlin itself does not have static methods in the langague, even though that's what these top-level functions translate to at the JVM level.\n",
    "\n",
    "#### Variable Declaration\n",
    "*var* is how you define a variable. It uses type inference to assign the type, and it is *mutable*, meaning it can be reassigned."
   ]
  },
  {
   "cell_type": "code",
   "execution_count": 2,
   "metadata": {},
   "outputs": [
    {
     "name": "stdout",
     "output_type": "stream",
     "text": [
      "Hello\n",
      "I was reassigned\n"
     ]
    },
    {
     "data": {
      "text/plain": [
       "null"
      ]
     },
     "execution_count": 2,
     "metadata": {},
     "output_type": "execute_result"
    }
   ],
   "source": [
    "var myMutableVar = \"Hello\"\n",
    "println(myMutableVar)\n",
    "myMutableVar = \"I was reassigned\"\n",
    "println(myMutableVar)"
   ]
  },
  {
   "cell_type": "markdown",
   "metadata": {},
   "source": [
    "*val* defines an *immutable* variable that cannot be reassigned:"
   ]
  },
  {
   "cell_type": "code",
   "execution_count": 3,
   "metadata": {},
   "outputs": [
    {
     "ename": "error",
     "evalue": " val cannot be reassigned",
     "output_type": "error",
     "text": "error: val cannot be reassigned\r\nmyImmutableVar = \"This should error\"\r\n^\r\n",
     "traceback": [
      "\u001b[1;31merror: val cannot be reassigned\u001b[0;0m",
      "\u001b[1;31mmyImmutableVar = \"This should error\"\u001b[0;0m",
      "\u001b[1;31m^\u001b[0;0m"
     ]
    }
   ],
   "source": [
    "val myImmutableVar = \"Hello\"\n",
    "myImmutableVar = \"This should error\""
   ]
  },
  {
   "cell_type": "markdown",
   "metadata": {},
   "source": [
    "#### String Interpolation\n",
    "Kotlin supports *string interpolation*, meaning you can perform variable replacement in strings:"
   ]
  },
  {
   "cell_type": "code",
   "execution_count": 4,
   "metadata": {},
   "outputs": [
    {
     "name": "stdout",
     "output_type": "stream",
     "text": [
      "Hello DAVID\n"
     ]
    },
    {
     "data": {
      "text/plain": [
       "null"
      ]
     },
     "execution_count": 4,
     "metadata": {},
     "output_type": "execute_result"
    }
   ],
   "source": [
    "val name = \"david\"\n",
    "val myString = \"Hello ${name.toUpperCase()}\"\n",
    "println(myString)"
   ]
  },
  {
   "cell_type": "markdown",
   "metadata": {},
   "source": [
    "#### Constructors\n",
    "The syntax for constructors is frankly a little odd. The *primary constructor* is defined near the class name:"
   ]
  },
  {
   "cell_type": "code",
   "execution_count": 5,
   "metadata": {},
   "outputs": [
    {
     "name": "stdout",
     "output_type": "stream",
     "text": [
      "Hello, David\n"
     ]
    },
    {
     "data": {
      "text/plain": [
       "null"
      ]
     },
     "execution_count": 5,
     "metadata": {},
     "output_type": "execute_result"
    }
   ],
   "source": [
    "class Greeter(val name: String) {\n",
    "    fun greet() {\n",
    "        println(\"Hello, $name\")\n",
    "    }\n",
    "}\n",
    "Greeter(\"David\").greet()"
   ]
  },
  {
   "cell_type": "markdown",
   "metadata": {},
   "source": [
    "The above example defines a single constructor parameter, *name*. It additionally creates *getters* for the class because we specify *val* in the parameter definition. As with many language features in Kotlin, this is a short-hand for the longer more explicit version of assigning property values in the constructor body.\n",
    "\n",
    "#### Short Methods\n",
    "Another short-hand is that you can eliminate braces in a method if the method only consists of a single statement:"
   ]
  },
  {
   "cell_type": "code",
   "execution_count": 6,
   "metadata": {},
   "outputs": [
    {
     "name": "stdout",
     "output_type": "stream",
     "text": [
      "Hello David!\n"
     ]
    },
    {
     "data": {
      "text/plain": [
       "null"
      ]
     },
     "execution_count": 6,
     "metadata": {},
     "output_type": "execute_result"
    }
   ],
   "source": [
    "fun sayHello(name: String) = \"Hello $name!\"\n",
    "println(sayHello(\"David\"))"
   ]
  },
  {
   "cell_type": "markdown",
   "metadata": {},
   "source": [
    "#### Default Method Parameters\n",
    "Methods also support default method parameters:"
   ]
  },
  {
   "cell_type": "code",
   "execution_count": 7,
   "metadata": {},
   "outputs": [
    {
     "name": "stdout",
     "output_type": "stream",
     "text": [
      "Hello Dolly!\n"
     ]
    },
    {
     "data": {
      "text/plain": [
       "null"
      ]
     },
     "execution_count": 7,
     "metadata": {},
     "output_type": "execute_result"
    }
   ],
   "source": [
    "fun sayHelloWithDefault(name: String = \"Dolly\") = \"Hello $name!\"\n",
    "println(sayHelloWithDefault())"
   ]
  },
  {
   "cell_type": "markdown",
   "metadata": {},
   "source": [
    "#### Null Checking\n",
    "Variables are non-nullable unless you explicitly make them so. This allows the compiler to force you to deal with nullability issues at compile-time:"
   ]
  },
  {
   "cell_type": "code",
   "execution_count": 9,
   "metadata": {},
   "outputs": [
    {
     "ename": "error",
     "evalue": " null can not be a value of a non-null type String",
     "output_type": "error",
     "text": "error: null can not be a value of a non-null type String\r\nname = null // This fails because name is not allowed to be null\r\n       ^\r\n",
     "traceback": [
      "\u001b[1;31merror: null can not be a value of a non-null type String\u001b[0;0m",
      "\u001b[1;31mname = null // This fails because name is not allowed to be null\u001b[0;0m",
      "\u001b[1;31m       ^\u001b[0;0m"
     ]
    }
   ],
   "source": [
    "var name: String = \"Hello\"\n",
    "name = null // This fails because name is not allowed to be null"
   ]
  },
  {
   "cell_type": "markdown",
   "metadata": {},
   "source": [
    "If you really need a value to be nullable you can append the *?* character to any type to make it nullable:"
   ]
  },
  {
   "cell_type": "code",
   "execution_count": 11,
   "metadata": {},
   "outputs": [
    {
     "data": {
      "text/plain": [
       "null"
      ]
     },
     "execution_count": 11,
     "metadata": {},
     "output_type": "execute_result"
    }
   ],
   "source": [
    "var nullableName: String? = \"Hello\"\n",
    "nullableName = null"
   ]
  },
  {
   "cell_type": "markdown",
   "metadata": {},
   "source": [
    "There is a *safe operator* that will help you when dealing with nullable types. It will only execute the following statement if the property is not null:"
   ]
  },
  {
   "cell_type": "code",
   "execution_count": 12,
   "metadata": {},
   "outputs": [
    {
     "name": "stdout",
     "output_type": "stream",
     "text": [
      "Value of lowerCased: null\n"
     ]
    },
    {
     "data": {
      "text/plain": [
       "null"
      ]
     },
     "execution_count": 12,
     "metadata": {},
     "output_type": "execute_result"
    }
   ],
   "source": [
    "val anotherNullableName: String? = null\n",
    "val lowerCased = anotherNullableName?.toLowerCase() // In Java this would have thrown a null-pointer exception\n",
    "println(\"Value of lowerCased: $lowerCased\")"
   ]
  },
  {
   "cell_type": "markdown",
   "metadata": {},
   "source": [
    "There is an *elvis operator* that will execute some other statement if the result of the nullable statement is null:"
   ]
  },
  {
   "cell_type": "code",
   "execution_count": 13,
   "metadata": {},
   "outputs": [
    {
     "name": "stdout",
     "output_type": "stream",
     "text": [
      "Value of lowerCased: no value to lowercase\n"
     ]
    },
    {
     "data": {
      "text/plain": [
       "null"
      ]
     },
     "execution_count": 13,
     "metadata": {},
     "output_type": "execute_result"
    }
   ],
   "source": [
    "val someNullable: String? = null\n",
    "val lowerCased = anotherNullableName?.toLowerCase() ?: \"no value to lowercase\"\n",
    "println(\"Value of lowerCased: $lowerCased\")"
   ]
  },
  {
   "cell_type": "markdown",
   "metadata": {},
   "source": [
    "### Data Classes\n",
    "Classes can be defined using the keyword *data*. This will create any relevant getters and/or setters, hash code and equals methods, and toString method:"
   ]
  },
  {
   "cell_type": "code",
   "execution_count": 14,
   "metadata": {},
   "outputs": [
    {
     "data": {
      "text/plain": [
       "Customer(name=Name, email=email)"
      ]
     },
     "execution_count": 14,
     "metadata": {},
     "output_type": "execute_result"
    }
   ],
   "source": [
    "data class Customer(val name: String, val email: String)\n",
    "Customer(\"Name\", \"email\").toString()"
   ]
  },
  {
   "cell_type": "markdown",
   "metadata": {},
   "source": [
    "In addition to positional arguments, data classes automatically get free constructors with named arguments too:"
   ]
  },
  {
   "cell_type": "code",
   "execution_count": 15,
   "metadata": {},
   "outputs": [
    {
     "data": {
      "text/plain": [
       "Customer(name=SomeName, email=SomeEmail)"
      ]
     },
     "execution_count": 15,
     "metadata": {},
     "output_type": "execute_result"
    }
   ],
   "source": [
    "Customer(email=\"SomeEmail\", name=\"SomeName\")"
   ]
  },
  {
   "cell_type": "markdown",
   "metadata": {},
   "source": [
    "#### Equality\n",
    "Unlike in Java, the `==` operator delegates to the `equals` method. It does **not** check reference equality. If you want to check reference equality, you should use the `===` operator:"
   ]
  },
  {
   "cell_type": "code",
   "execution_count": 17,
   "metadata": {},
   "outputs": [
    {
     "name": "stdout",
     "output_type": "stream",
     "text": [
      "== equals: true\n",
      "=== equals: false\n"
     ]
    },
    {
     "data": {
      "text/plain": [
       "null"
      ]
     },
     "execution_count": 17,
     "metadata": {},
     "output_type": "execute_result"
    }
   ],
   "source": [
    "val customer1 = Customer(\"David\", \"david@myaddress.com\")\n",
    "val customer2 = Customer(\"David\", \"david@myaddress.com\")\n",
    "println(\"== equals: ${customer1 == customer2}\")\n",
    "println(\"=== equals: ${customer1 === customer2}\")"
   ]
  },
  {
   "cell_type": "markdown",
   "metadata": {},
   "source": [
    "### Showing Generated Java\n",
    "In IntelliJ, you can use the *Show Kotlin Bytecodes* option on a Kotlin file. This will show you the generated JVM bytecode. You can then use the *Decompile* option on the bytecode to show the decompiled Java source code. This can give you a nice way to see roughly what is the equivalent Java code for a given Kotlin feature."
   ]
  },
  {
   "cell_type": "markdown",
   "metadata": {},
   "source": [
    "#### Collections Literals\n",
    "You can easily create list and map literals:"
   ]
  },
  {
   "cell_type": "code",
   "execution_count": 20,
   "metadata": {},
   "outputs": [
    {
     "name": "stdout",
     "output_type": "stream",
     "text": [
      "[Customer(name=SomeName, email=SomeEmail)]\n",
      "{Name=Customer(name=SomeName, email=SomeEmail)}\n"
     ]
    },
    {
     "data": {
      "text/plain": [
       "null"
      ]
     },
     "execution_count": 20,
     "metadata": {},
     "output_type": "execute_result"
    }
   ],
   "source": [
    "val customer = Customer(\"SomeName\", \"SomeEmail\")\n",
    "val customersList = listOf(\n",
    "    customer\n",
    ")\n",
    "println(customersList)\n",
    "\n",
    "val customersMap = mapOf(\n",
    "    \"Name\" to customer\n",
    ")\n",
    "println(customersMap)"
   ]
  },
  {
   "cell_type": "markdown",
   "metadata": {},
   "source": [
    "#### Infix Methods\n",
    "In the above *mapOf* function, the *to* bit of syntax looks a bit odd. This is an example of an *infix* method.\n",
    "\n",
    "Infix methods are special methods with two parameters where Kotlin allows you to put the method name between the two parameters, without any parentheses. See the [Kotlin docs](https://kotlinlang.org/docs/reference/functions.html#infix-notation) for more information on infix methods."
   ]
  },
  {
   "cell_type": "markdown",
   "metadata": {},
   "source": [
    "#### Inheritance\n",
    "In Kotlin, classes are **not** extendable by default. You must mark them *open* before they can be subclassed.\n",
    "\n",
    "The *:* keyword is used for both *extends* and *implements*:"
   ]
  },
  {
   "cell_type": "code",
   "execution_count": null,
   "metadata": {},
   "outputs": [],
   "source": [
    "open class Base(p: Int)\n",
    "\n",
    "class Derived(p: Int): Base(p) // This Base(p) not only says what you are subclassing, but it calls the super() method as well"
   ]
  },
  {
   "cell_type": "markdown",
   "metadata": {},
   "source": [
    "#### Branching Expressions\n",
    "Branching statements like *if* are expressions in Kotlin"
   ]
  },
  {
   "cell_type": "code",
   "execution_count": null,
   "metadata": {},
   "outputs": [],
   "source": [
    "// TODO"
   ]
  },
  {
   "cell_type": "markdown",
   "metadata": {},
   "source": [
    "Supports destructuring when you have multiple return types:"
   ]
  },
  {
   "cell_type": "code",
   "execution_count": null,
   "metadata": {},
   "outputs": [],
   "source": [
    "val someMap = mapOf(\n",
    "    \"myKey\" to \"myValue\"\n",
    ")\n",
    "for((k, v) in someMap) { println(\"$k maps to $v\") }"
   ]
  },
  {
   "cell_type": "markdown",
   "metadata": {},
   "source": [
    "Functions have various amounts of verbosity:"
   ]
  },
  {
   "cell_type": "code",
   "execution_count": null,
   "metadata": {},
   "outputs": [],
   "source": [
    "fun sum(a: Int, b: Int) = a + b\n",
    "\n",
    "fun sumAgain(a: Int, b: Int): Int {\n",
    "    return a + b\n",
    "}"
   ]
  },
  {
   "cell_type": "markdown",
   "metadata": {},
   "source": [
    "When you use default parameters in Kotlin, the generated bytecode will only have one method when invoked from Java, requiring all the parameters. \n",
    "\n",
    "If you want Java to call with combinations of the default parameters, you can use @JvmOverloads on the method and Kotlin will generate all the overloaded functions in the Java bytecode\n",
    "\n",
    "`when` is much more feature-rich than `switch"
   ]
  },
  {
   "cell_type": "code",
   "execution_count": null,
   "metadata": {},
   "outputs": [],
   "source": [
    "// TODO"
   ]
  },
  {
   "cell_type": "markdown",
   "metadata": {},
   "source": [
    "No regular `for` loop, you have `for..in` instead:"
   ]
  },
  {
   "cell_type": "code",
   "execution_count": null,
   "metadata": {},
   "outputs": [],
   "source": [
    "for(item in collection) print(item)\n",
    "\n",
    "for(i in array.indices) {\n",
    "    print(array[i])\n",
    "}"
   ]
  },
  {
   "cell_type": "markdown",
   "metadata": {},
   "source": [
    "\"Elvis operator\" `?:` allows you to assign a default behavior when a nullable value is null:"
   ]
  },
  {
   "cell_type": "code",
   "execution_count": null,
   "metadata": {},
   "outputs": [],
   "source": [
    "val s = person.name ?: \"World\""
   ]
  },
  {
   "cell_type": "markdown",
   "metadata": {},
   "source": [
    "Kotlin has lambda expressions. The whole lambda is contained within `{}`, unlike java"
   ]
  },
  {
   "cell_type": "code",
   "execution_count": null,
   "metadata": {},
   "outputs": [],
   "source": [
    "max(strings, { a, b -> a.length - b.length })"
   ]
  },
  {
   "cell_type": "markdown",
   "metadata": {},
   "source": [
    "You can also place lambda after parentheses in a method call:"
   ]
  },
  {
   "cell_type": "code",
   "execution_count": null,
   "metadata": {},
   "outputs": [],
   "source": [
    "max(strings) { a, b -> a.length - b.length }"
   ]
  },
  {
   "cell_type": "markdown",
   "metadata": {},
   "source": [
    "Unlike Java returning functional interfaces, the return type of a lambda is special:"
   ]
  },
  {
   "cell_type": "code",
   "execution_count": null,
   "metadata": {},
   "outputs": [],
   "source": [
    "someFunc(): (Int, String) -> Int"
   ]
  },
  {
   "cell_type": "markdown",
   "metadata": {},
   "source": [
    "If a single argument in the lambda, you can use `it` to reference the variable:"
   ]
  },
  {
   "cell_type": "code",
   "execution_count": null,
   "metadata": {},
   "outputs": [],
   "source": [
    "val ints = listOf(1, 2, 3)\n",
    "ints.filter { it > 0 }"
   ]
  },
  {
   "cell_type": "markdown",
   "metadata": {},
   "source": [
    "Kotlin lambdas are closures. Unlike Java, you can modify local variables in the enclosing scope.\n",
    "\n",
    "`object` defines a singleton class:"
   ]
  },
  {
   "cell_type": "code",
   "execution_count": null,
   "metadata": {},
   "outputs": [],
   "source": [
    "object MyObject {\n",
    "    //\n",
    "}"
   ]
  },
  {
   "cell_type": "markdown",
   "metadata": {},
   "source": [
    "Companion objects are the way to use statics in a class:"
   ]
  },
  {
   "cell_type": "code",
   "execution_count": null,
   "metadata": {},
   "outputs": [],
   "source": [
    "class MyClass {\n",
    "    companion object { \n",
    "        fun instance() = MyClass()\n",
    "    }\n",
    "}\n",
    "\n",
    "val instance = MyClass.instance()"
   ]
  },
  {
   "cell_type": "markdown",
   "metadata": {},
   "source": [
    "Kotlin has added extension methods to existing Java API clases. For example, `URL` has added extension methods like `readBytes` and `readText`"
   ]
  },
  {
   "cell_type": "markdown",
   "metadata": {},
   "source": [
    "#### Coroutines\n",
    "Ken didn't dive much into this, but Kotlin supports lightweight threads known as *coroutines*. This is somewhat simliar to the threading model that languages like Erlang use, in that you can have hundreds or thousands of them at once.\n",
    "\n",
    "The following is an example of a coroutine, but it won't work in this notebook with this Kotlin kernel:"
   ]
  },
  {
   "cell_type": "code",
   "execution_count": null,
   "metadata": {},
   "outputs": [],
   "source": [
    "suspend fun test() = coroutineScope {\n",
    "    for (i in 0 until 10) { // Exclusive range\n",
    "        launch {\n",
    "            delay(1000L - i * 10)\n",
    "            print(\"hi$i \")\n",
    "        }\n",
    "    }\n",
    "}"
   ]
  },
  {
   "cell_type": "markdown",
   "metadata": {},
   "source": [
    "# Kotlin: Beyond the Basics\n",
    "Ken Kousen\n",
    "\n",
    "A meandering tour of various parts of the language and platform\n",
    "\n",
    "Went through `antarctica.kt` from his cookbook github repository \n",
    "\n",
    "Showed example of GraalVM compiled Kotlin program down to native executable. \n",
    "\n",
    "Kotlin `scripts` have an extension of `.kts` and don't need to have a main() function\n",
    "\n",
    "Superclass of all Kotlin objects is not `Object`, it is `Any`\n",
    "\n",
    "### Using nullable variables\n",
    "In a nullable variable, the `!!` operator asserts that the value is not null. This is not safe and should not normally be used. The `?.` operator is the 'safe' operator.\n",
    "\n",
    "`var` with a nullable type that could be accessed by multiple threads can't do a smart cast.\n",
    "\n",
    "### Nothing Type\n",
    "`val abc = null` infers to a special type `Nothing?`. This is a special class in Kotlin that has no members and can't be constructed.\n",
    "\n",
    "`Nothing` is a subclass of every type, which is super strange. This means you can assign `Nothing?` to `String?`\n",
    "\n",
    "### Operator Overloading\n",
    "Supports a limited form of operator overloading with `operator functions`. The operators (+, -, etc.) will delegate to operator functions of a certain name:\n",
    "\n",
    "```\n",
    "operator fun Complex.plus(c: Complex): Complex = this.add(c) // Extension function to the Complex class with an operator function\n",
    "```\n",
    "\n",
    "### Delegates\n",
    "See Kotlin \"Delegation Pattern document\"\n",
    "\n",
    "`by` delegates behavior to another class. This is a nice way to implement an interface by delegating to another object injected through composition.\n",
    "\n",
    "You have to be careful with changing the object reference for a delegate. If you change it, Kotlin will keep using the old object when calling the delegate funcction. As a result you really shouldn't let the delegate object be updated (make it val)\n",
    "\n",
    "### Method Names with Backticks\n",
    "If you are using a method name that is a reserved kotlin keyword, such as Hamcrest's `is` method, then you can surround it with backticks to distinguish as a method name.\n",
    "\n",
    "### Infix Functions\n",
    "Using the `infix` keyword in a function definiton is a signal to the compiler to just inline the function where it is used during compile-time.\n",
    "\n",
    "### Destructuring Data Classes\n",
    "Data classes have componentN() methods added to the generated bytecode, which allows them to be automatically destructured into a list of variables.\n",
    "\n",
    "### Scope Functions\n",
    "Combination of let with an elvis operator is pretty useful when you have a block of code to execute when a value is not null:\n",
    "```\n",
    "response?.let { \n",
    "    return response.someProp\n",
    "} ?: \"Some Default\"\n",
    "```\n",
    "\n",
    "Also is a way to run side effects as a result of an execution:\n",
    "```\n",
    "val jake = Person(\"Jake\", 30, \"Android developer\")\n",
    "    .also {\n",
    "        println(\"Created Jake\")\n",
    "    }\n",
    "```\n",
    "\n",
    "With allows you to concisely access properties on an object (sort of an implicit `this`)\n",
    "\n",
    "Several others\n",
    "\n",
    "### Takeaways\n",
    "* Try compiling a Kotlin application with GraalVM\n",
    "* Try out delegation in a class"
   ]
  },
  {
   "cell_type": "markdown",
   "metadata": {},
   "source": [
    "### Takeaways\n",
    "I would like to do the following:\n",
    "\n",
    "* Try couroutines and see how they behave\n",
    "* Look at some of my Kotlin code converted to decompiled bytecode to see what Kotlin generated\n",
    "* Learn more about infix methods"
   ]
  }
 ],
 "metadata": {
  "kernelspec": {
   "display_name": "Kotlin",
   "language": "kotlin",
   "name": "kotlin"
  },
  "language_info": {
   "codemirror_mode": "kotlin",
   "file_extension": ".kt",
   "mimetype": "",
   "name": "Kotlin",
   "nbconverter_exporter": "",
   "version": "1.2.21"
  }
 },
 "nbformat": 4,
 "nbformat_minor": 4
}
