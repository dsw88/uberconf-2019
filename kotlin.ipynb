{
 "cells": [
  {
   "cell_type": "markdown",
   "metadata": {},
   "source": [
    "# Kotlin\n",
    "This notebook contains my notes from the *Kotlin Fundamentals* and *Kotlin: Beyond the Basics* sessions by Ken Kousen at *UberConf 2019*. \n",
    "\n",
    "Ken is the author of the upcoming [Kotlin Cookbook](https://www.amazon.com/Kotlin-Cookbook-Problem-Focused-Ken-Kousen/dp/1492046671). He also has a [GitHub repository](https://github.com/kousen/kotlin-cookbook) with code examples from his cookbook.\n",
    "\n",
    "### Kotlin highlights\n",
    "Ken first highlighted some of the main distinctions of Kotlin:\n",
    "* JVM language, interoperable with Java\n",
    "* Statically typed and statically bound by default\n",
    "* Null safety at the compiler level\n",
    "\n",
    "Ken said that Kotlin is a Frankenstein of sorts that borrows almost all its language features and syntax from other languages. He gave these examples:\n",
    "\n",
    "* Closures implemented very similar to Groovy's closures.\n",
    "* Type system is similar to Scala\n",
    "* Coroutines are similar to those available in .NET\n",
    "\n",
    "Semicolons are optional and the community discourages using them.\n",
    "\n",
    "### Kotlin Examples\n",
    "Ken spent most of these two sessions giving examples in Kotlin.\n",
    "\n",
    "#### Top-level Functions\n",
    "Functions don't need to be in a class, they can be declared at the top-level as well:"
   ]
  },
  {
   "cell_type": "code",
   "execution_count": 1,
   "metadata": {},
   "outputs": [
    {
     "name": "stdout",
     "output_type": "stream",
     "text": [
      "Hello David\n"
     ]
    },
    {
     "data": {
      "text/plain": [
       "null"
      ]
     },
     "execution_count": 1,
     "metadata": {},
     "output_type": "execute_result"
    }
   ],
   "source": [
    "fun printHello() {\n",
    "    val name = \"David\"\n",
    "    println(\"Hello ${name}\")\n",
    "}\n",
    "printHello()"
   ]
  },
  {
   "cell_type": "markdown",
   "metadata": {},
   "source": [
    "The above function, when compiled to JVM bytecode, will be translated to a class named *FileNameKT*, where *FileName* is replaced with the name of the Kotlin file where the class is declared. The top-level functions are declared in this class as static methods. Kotlin itself does not have static methods in the langague, even though that's what these top-level functions translate to at the JVM level.\n",
    "\n",
    "#### Variable Declaration\n",
    "*var* is how you define a variable. It uses type inference to assign the type, and it is *mutable*, meaning it can be reassigned."
   ]
  },
  {
   "cell_type": "code",
   "execution_count": 2,
   "metadata": {},
   "outputs": [
    {
     "name": "stdout",
     "output_type": "stream",
     "text": [
      "Hello\n",
      "I was reassigned\n"
     ]
    },
    {
     "data": {
      "text/plain": [
       "null"
      ]
     },
     "execution_count": 2,
     "metadata": {},
     "output_type": "execute_result"
    }
   ],
   "source": [
    "var myMutableVar = \"Hello\"\n",
    "println(myMutableVar)\n",
    "myMutableVar = \"I was reassigned\"\n",
    "println(myMutableVar)"
   ]
  },
  {
   "cell_type": "markdown",
   "metadata": {},
   "source": [
    "*val* defines an *immutable* variable that cannot be reassigned:"
   ]
  },
  {
   "cell_type": "code",
   "execution_count": 3,
   "metadata": {},
   "outputs": [
    {
     "ename": "error",
     "evalue": " val cannot be reassigned",
     "output_type": "error",
     "text": "error: val cannot be reassigned\r\nmyImmutableVar = \"This should error\"\r\n^\r\n",
     "traceback": [
      "\u001b[1;31merror: val cannot be reassigned\u001b[0;0m",
      "\u001b[1;31mmyImmutableVar = \"This should error\"\u001b[0;0m",
      "\u001b[1;31m^\u001b[0;0m"
     ]
    }
   ],
   "source": [
    "val myImmutableVar = \"Hello\"\n",
    "myImmutableVar = \"This should error\""
   ]
  },
  {
   "cell_type": "markdown",
   "metadata": {},
   "source": [
    "#### String Interpolation\n",
    "Kotlin supports *string interpolation*, meaning you can perform variable replacement in strings:"
   ]
  },
  {
   "cell_type": "code",
   "execution_count": 4,
   "metadata": {},
   "outputs": [
    {
     "name": "stdout",
     "output_type": "stream",
     "text": [
      "Hello DAVID\n"
     ]
    },
    {
     "data": {
      "text/plain": [
       "null"
      ]
     },
     "execution_count": 4,
     "metadata": {},
     "output_type": "execute_result"
    }
   ],
   "source": [
    "val name = \"david\"\n",
    "val myString = \"Hello ${name.toUpperCase()}\"\n",
    "println(myString)"
   ]
  },
  {
   "cell_type": "markdown",
   "metadata": {},
   "source": [
    "#### Constructors\n",
    "The syntax for constructors is frankly a little odd. The *primary constructor* is defined near the class name:"
   ]
  },
  {
   "cell_type": "code",
   "execution_count": 5,
   "metadata": {},
   "outputs": [
    {
     "name": "stdout",
     "output_type": "stream",
     "text": [
      "Hello, David\n"
     ]
    },
    {
     "data": {
      "text/plain": [
       "null"
      ]
     },
     "execution_count": 5,
     "metadata": {},
     "output_type": "execute_result"
    }
   ],
   "source": [
    "class Greeter(val name: String) {\n",
    "    fun greet() {\n",
    "        println(\"Hello, $name\")\n",
    "    }\n",
    "}\n",
    "Greeter(\"David\").greet()"
   ]
  },
  {
   "cell_type": "markdown",
   "metadata": {},
   "source": [
    "The above example defines a single constructor parameter, *name*. It additionally creates *getters* for the class because we specify *val* in the parameter definition. As with many language features in Kotlin, this is a short-hand for the longer more explicit version of assigning property values in the constructor body.\n",
    "\n",
    "#### Short Methods\n",
    "Another short-hand is that you can eliminate braces in a method if the method only consists of a single statement:"
   ]
  },
  {
   "cell_type": "code",
   "execution_count": 6,
   "metadata": {},
   "outputs": [
    {
     "name": "stdout",
     "output_type": "stream",
     "text": [
      "Hello David!\n"
     ]
    },
    {
     "data": {
      "text/plain": [
       "null"
      ]
     },
     "execution_count": 6,
     "metadata": {},
     "output_type": "execute_result"
    }
   ],
   "source": [
    "fun sayHello(name: String) = \"Hello $name!\"\n",
    "println(sayHello(\"David\"))"
   ]
  },
  {
   "cell_type": "markdown",
   "metadata": {},
   "source": [
    "#### Default Method Parameters\n",
    "Methods also support default method parameters:"
   ]
  },
  {
   "cell_type": "code",
   "execution_count": 7,
   "metadata": {},
   "outputs": [
    {
     "name": "stdout",
     "output_type": "stream",
     "text": [
      "Hello Dolly!\n"
     ]
    },
    {
     "data": {
      "text/plain": [
       "null"
      ]
     },
     "execution_count": 7,
     "metadata": {},
     "output_type": "execute_result"
    }
   ],
   "source": [
    "fun sayHelloWithDefault(name: String = \"Dolly\") = \"Hello $name!\"\n",
    "println(sayHelloWithDefault())"
   ]
  },
  {
   "cell_type": "markdown",
   "metadata": {},
   "source": [
    "When you use default method parameters in Kotlin, the generated bytecode will only have one method when invoked from Java, requiring all the parameters. If you want Java to call with combinations of the default parameters, you can use *@JvmOverloads* on the method and Kotlin will generate all the overloaded functions in the Java bytecode\n",
    "\n",
    "#### Null Checking\n",
    "Variables are non-nullable unless you explicitly make them so. This allows the compiler to force you to deal with nullability issues at compile-time:"
   ]
  },
  {
   "cell_type": "code",
   "execution_count": 8,
   "metadata": {},
   "outputs": [
    {
     "ename": "error",
     "evalue": " null can not be a value of a non-null type String",
     "output_type": "error",
     "text": "error: null can not be a value of a non-null type String\r\nname = null // This fails because name is not allowed to be null\r\n       ^\r\n",
     "traceback": [
      "\u001b[1;31merror: null can not be a value of a non-null type String\u001b[0;0m",
      "\u001b[1;31mname = null // This fails because name is not allowed to be null\u001b[0;0m",
      "\u001b[1;31m       ^\u001b[0;0m"
     ]
    }
   ],
   "source": [
    "var name: String = \"Hello\"\n",
    "name = null // This fails because name is not allowed to be null"
   ]
  },
  {
   "cell_type": "markdown",
   "metadata": {},
   "source": [
    "If you really need a value to be nullable you can append the *?* character to any type to make it nullable:"
   ]
  },
  {
   "cell_type": "code",
   "execution_count": 9,
   "metadata": {},
   "outputs": [
    {
     "data": {
      "text/plain": [
       "null"
      ]
     },
     "execution_count": 9,
     "metadata": {},
     "output_type": "execute_result"
    }
   ],
   "source": [
    "var nullableName: String? = \"Hello\"\n",
    "nullableName = null"
   ]
  },
  {
   "cell_type": "markdown",
   "metadata": {},
   "source": [
    "There is a *safe operator* that will help you when dealing with nullable types. It will only execute the following statement if the property is not null:"
   ]
  },
  {
   "cell_type": "code",
   "execution_count": 10,
   "metadata": {},
   "outputs": [
    {
     "name": "stdout",
     "output_type": "stream",
     "text": [
      "Value of lowerCased: null\n"
     ]
    },
    {
     "data": {
      "text/plain": [
       "null"
      ]
     },
     "execution_count": 10,
     "metadata": {},
     "output_type": "execute_result"
    }
   ],
   "source": [
    "val anotherNullableName: String? = null\n",
    "val lowerCased = anotherNullableName?.toLowerCase() // In Java this would have thrown a null-pointer exception\n",
    "println(\"Value of lowerCased: $lowerCased\")"
   ]
  },
  {
   "cell_type": "markdown",
   "metadata": {},
   "source": [
    "There is an *elvis operator* that will execute some other statement if the result of the nullable statement is null:"
   ]
  },
  {
   "cell_type": "code",
   "execution_count": 11,
   "metadata": {},
   "outputs": [
    {
     "name": "stdout",
     "output_type": "stream",
     "text": [
      "Value of lowerCased: no value to lowercase\n"
     ]
    },
    {
     "data": {
      "text/plain": [
       "null"
      ]
     },
     "execution_count": 11,
     "metadata": {},
     "output_type": "execute_result"
    }
   ],
   "source": [
    "val someNullable: String? = null\n",
    "val lowerCased = anotherNullableName?.toLowerCase() ?: \"no value to lowercase\"\n",
    "println(\"Value of lowerCased: $lowerCased\")"
   ]
  },
  {
   "cell_type": "markdown",
   "metadata": {},
   "source": [
    "#### Data Classes\n",
    "Classes can be defined using the keyword *data*. This will create any relevant getters and/or setters, hash code and equals methods, and toString method:"
   ]
  },
  {
   "cell_type": "code",
   "execution_count": 12,
   "metadata": {},
   "outputs": [
    {
     "data": {
      "text/plain": [
       "Customer(name=Name, email=email)"
      ]
     },
     "execution_count": 12,
     "metadata": {},
     "output_type": "execute_result"
    }
   ],
   "source": [
    "data class Customer(val name: String, val email: String)\n",
    "Customer(\"Name\", \"email\").toString()"
   ]
  },
  {
   "cell_type": "markdown",
   "metadata": {},
   "source": [
    "In addition to positional arguments, data classes automatically get free constructors with named arguments too:"
   ]
  },
  {
   "cell_type": "code",
   "execution_count": 13,
   "metadata": {},
   "outputs": [
    {
     "data": {
      "text/plain": [
       "Customer(name=SomeName, email=SomeEmail)"
      ]
     },
     "execution_count": 13,
     "metadata": {},
     "output_type": "execute_result"
    }
   ],
   "source": [
    "Customer(email=\"SomeEmail\", name=\"SomeName\")"
   ]
  },
  {
   "cell_type": "markdown",
   "metadata": {},
   "source": [
    "#### Equality\n",
    "Unlike in Java, the `==` operator delegates to the `equals` method. It does **not** check reference equality. If you want to check reference equality, you should use the `===` operator:"
   ]
  },
  {
   "cell_type": "code",
   "execution_count": 14,
   "metadata": {},
   "outputs": [
    {
     "name": "stdout",
     "output_type": "stream",
     "text": [
      "== equals: true\n",
      "=== equals: false\n"
     ]
    },
    {
     "data": {
      "text/plain": [
       "null"
      ]
     },
     "execution_count": 14,
     "metadata": {},
     "output_type": "execute_result"
    }
   ],
   "source": [
    "val customer1 = Customer(\"David\", \"david@myaddress.com\")\n",
    "val customer2 = Customer(\"David\", \"david@myaddress.com\")\n",
    "println(\"== equals: ${customer1 == customer2}\")\n",
    "println(\"=== equals: ${customer1 === customer2}\")"
   ]
  },
  {
   "cell_type": "markdown",
   "metadata": {},
   "source": [
    "#### Collections Literals\n",
    "You can easily create list and map literals:"
   ]
  },
  {
   "cell_type": "code",
   "execution_count": 15,
   "metadata": {},
   "outputs": [
    {
     "name": "stdout",
     "output_type": "stream",
     "text": [
      "[Customer(name=SomeName, email=SomeEmail)]\n",
      "{Name=Customer(name=SomeName, email=SomeEmail)}\n"
     ]
    },
    {
     "data": {
      "text/plain": [
       "null"
      ]
     },
     "execution_count": 15,
     "metadata": {},
     "output_type": "execute_result"
    }
   ],
   "source": [
    "val customer = Customer(\"SomeName\", \"SomeEmail\")\n",
    "val customersList = listOf(\n",
    "    customer\n",
    ")\n",
    "println(customersList)\n",
    "\n",
    "val customersMap = mapOf(\n",
    "    \"Name\" to customer\n",
    ")\n",
    "println(customersMap)"
   ]
  },
  {
   "cell_type": "markdown",
   "metadata": {},
   "source": [
    "#### Infix Methods\n",
    "In the above *mapOf* function, the *to* bit of syntax looks a bit odd. This is an example of an *infix* method.\n",
    "\n",
    "Infix methods are special methods with two parameters where Kotlin allows you to put the method name between the two parameters, without any parentheses. See the [Kotlin docs](https://kotlinlang.org/docs/reference/functions.html#infix-notation) for more information on infix methods."
   ]
  },
  {
   "cell_type": "markdown",
   "metadata": {},
   "source": [
    "#### Inheritance\n",
    "In Kotlin, classes are **not** extendable by default. You must mark them *open* before they can be subclassed.\n",
    "\n",
    "The *:* keyword is used for both *extends* and *implements*:"
   ]
  },
  {
   "cell_type": "code",
   "execution_count": 1,
   "metadata": {},
   "outputs": [
    {
     "data": {
      "text/plain": [
       "null"
      ]
     },
     "execution_count": 1,
     "metadata": {},
     "output_type": "execute_result"
    }
   ],
   "source": [
    "open class Base(p: Int)\n",
    "\n",
    "class Derived(p: Int): Base(p) // This Base(p) not only says what you are subclassing, but it calls the super() method as well"
   ]
  },
  {
   "cell_type": "markdown",
   "metadata": {},
   "source": [
    "#### Branching Expressions\n",
    "Branching statements like *if* are expressions in Kotlin"
   ]
  },
  {
   "cell_type": "code",
   "execution_count": 2,
   "metadata": {},
   "outputs": [
    {
     "name": "stdout",
     "output_type": "stream",
     "text": [
      "If evaluated to true\n"
     ]
    },
    {
     "data": {
      "text/plain": [
       "null"
      ]
     },
     "execution_count": 2,
     "metadata": {},
     "output_type": "execute_result"
    }
   ],
   "source": [
    "val test = if(true) {\n",
    "    \"If evaluated to true\"\n",
    "}\n",
    "else {\n",
    "    \"If evaluated to false\"\n",
    "}\n",
    "println(test)"
   ]
  },
  {
   "cell_type": "markdown",
   "metadata": {},
   "source": [
    "#### Destructuring\n",
    "Kotlin supports returning multiple values from a method. You can then use *destructuring* to assign those return values to multiple variables:"
   ]
  },
  {
   "cell_type": "code",
   "execution_count": 3,
   "metadata": {},
   "outputs": [
    {
     "name": "stdout",
     "output_type": "stream",
     "text": [
      "myKey maps to myValue\n"
     ]
    },
    {
     "data": {
      "text/plain": [
       "null"
      ]
     },
     "execution_count": 3,
     "metadata": {},
     "output_type": "execute_result"
    }
   ],
   "source": [
    "val someMap = mapOf(\n",
    "    \"myKey\" to \"myValue\"\n",
    ")\n",
    "for((k, v) in someMap) { println(\"$k maps to $v\") }"
   ]
  },
  {
   "cell_type": "markdown",
   "metadata": {},
   "source": [
    "#### When Expression\n",
    "The `when` expression is is much more feature-rich than `switch` in Java:"
   ]
  },
  {
   "cell_type": "code",
   "execution_count": 11,
   "metadata": {},
   "outputs": [
    {
     "name": "stdout",
     "output_type": "stream",
     "text": [
      "x == 0 or x == 1\n",
      "none of the above\n"
     ]
    },
    {
     "data": {
      "text/plain": [
       "null"
      ]
     },
     "execution_count": 11,
     "metadata": {},
     "output_type": "execute_result"
    }
   ],
   "source": [
    "val myNum = 0\n",
    "when (myNum) {\n",
    "    0, 1 -> println(\"x == 0 or x == 1\") // Can combine multiple cases into a single line\n",
    "    else -> println(\"otherwise\") // Must have exhaustive else when you \n",
    "}\n",
    "\n",
    "val myOtherNum = 13\n",
    "val validNumbers = listOf(10, 34, 19)\n",
    "when (myOtherNum) {\n",
    "    in 1..10 -> println(\"x is in the range\")\n",
    "    in validNumbers -> println(\"x is valid\")\n",
    "    !in 10..20 -> println(\"x is outside the range\")\n",
    "    else -> println(\"none of the above\")\n",
    "}"
   ]
  },
  {
   "cell_type": "markdown",
   "metadata": {},
   "source": [
    "#### For Loop\n",
    "There isn't the \"regular\" *for* loop in Java. Instead, you have *for..in*, which iterates over collections:"
   ]
  },
  {
   "cell_type": "code",
   "execution_count": 14,
   "metadata": {},
   "outputs": [
    {
     "name": "stdout",
     "output_type": "stream",
     "text": [
      "This\n",
      "is\n",
      "a\n",
      "list\n",
      "\n",
      "This\n",
      "is\n",
      "an\n",
      "array\n"
     ]
    },
    {
     "data": {
      "text/plain": [
       "null"
      ]
     },
     "execution_count": 14,
     "metadata": {},
     "output_type": "execute_result"
    }
   ],
   "source": [
    "val myList = listOf(\"This\", \"is\", \"a\", \"list\")\n",
    "for(item in myList) {\n",
    "    println(item)\n",
    "}\n",
    "println()\n",
    "\n",
    "val myArray = arrayOf(\"This\", \"is\", \"an\", \"array\")\n",
    "for(i in myArray.indices) {\n",
    "    println(myArray[i])\n",
    "}"
   ]
  },
  {
   "cell_type": "markdown",
   "metadata": {},
   "source": [
    "#### Closures\n",
    "Kotlin has closures, called *lambda expressions* in the language. The whole lambda, including arguments, is contained within the `{}` braces:"
   ]
  },
  {
   "cell_type": "code",
   "execution_count": 21,
   "metadata": {},
   "outputs": [
    {
     "name": "stdout",
     "output_type": "stream",
     "text": [
      "short\n",
      "medium\n",
      "looooonger\n"
     ]
    },
    {
     "data": {
      "text/plain": [
       "null"
      ]
     },
     "execution_count": 21,
     "metadata": {},
     "output_type": "execute_result"
    }
   ],
   "source": [
    "val someStrings = listOf(\"short\", \"medium\", \"looooonger\")\n",
    "someStrings.forEach({item ->\n",
    "    println(item)\n",
    "})"
   ]
  },
  {
   "cell_type": "markdown",
   "metadata": {},
   "source": [
    "If the lambda expression only has a single argument, you can omit it and use *it* instead:"
   ]
  },
  {
   "cell_type": "code",
   "execution_count": 22,
   "metadata": {},
   "outputs": [
    {
     "name": "stdout",
     "output_type": "stream",
     "text": [
      "short\n",
      "medium\n",
      "looooonger\n"
     ]
    },
    {
     "data": {
      "text/plain": [
       "null"
      ]
     },
     "execution_count": 22,
     "metadata": {},
     "output_type": "execute_result"
    }
   ],
   "source": [
    "someStrings.forEach({\n",
    "    println(it)\n",
    "})"
   ]
  },
  {
   "cell_type": "markdown",
   "metadata": {},
   "source": [
    "When a lambda expression is the last argument to a function, you can also place the lambda *after* the parentheses in a method call:"
   ]
  },
  {
   "cell_type": "code",
   "execution_count": 23,
   "metadata": {},
   "outputs": [
    {
     "name": "stdout",
     "output_type": "stream",
     "text": [
      "short\n",
      "medium\n",
      "looooonger\n"
     ]
    },
    {
     "data": {
      "text/plain": [
       "null"
      ]
     },
     "execution_count": 23,
     "metadata": {},
     "output_type": "execute_result"
    }
   ],
   "source": [
    "someStrings.forEach {\n",
    "    println(it)\n",
    "}"
   ]
  },
  {
   "cell_type": "markdown",
   "metadata": {},
   "source": [
    "Unlike in Java, lambda expressions have *closure*, meaning they can access and use the variables in the enclosing scope after the enclosing function has ceased running.\n",
    "\n",
    "Unlike Java, which requires lambda expressions to implement functional interfaces, lambda expressions have their own type in Kotlin. This type is an aggregate of the input and output parameters. Here's an example type for a lambda that takes an Int and a String as input parameters and returns an Int:\n",
    "\n",
    "```\n",
    "(Int, String) -> Int\n",
    "```"
   ]
  },
  {
   "cell_type": "markdown",
   "metadata": {},
   "source": [
    "#### Singleton Objects\n",
    "Like in Scala, you can use `object` to define a class that is a singleton instance:"
   ]
  },
  {
   "cell_type": "code",
   "execution_count": 27,
   "metadata": {},
   "outputs": [
    {
     "data": {
      "text/plain": [
       "null"
      ]
     },
     "execution_count": 27,
     "metadata": {},
     "output_type": "execute_result"
    }
   ],
   "source": [
    "object MyObject {\n",
    "    // Methods and other stuff goes here\n",
    "}"
   ]
  },
  {
   "cell_type": "markdown",
   "metadata": {},
   "source": [
    "#### Static Methods in Classes\n",
    "Kotlin does not have static methods. If you want to have a static method, a common pattern is to use a top-level function. If it must be in a particular class, you can use a *companion object*:"
   ]
  },
  {
   "cell_type": "code",
   "execution_count": 30,
   "metadata": {},
   "outputs": [
    {
     "name": "stdout",
     "output_type": "stream",
     "text": [
      "Line_30$MyClass@3ffdcf77\n"
     ]
    },
    {
     "data": {
      "text/plain": [
       "null"
      ]
     },
     "execution_count": 30,
     "metadata": {},
     "output_type": "execute_result"
    }
   ],
   "source": [
    "class MyClass {\n",
    "    companion object { \n",
    "        fun instance() = MyClass()\n",
    "    }\n",
    "}\n",
    "\n",
    "val instance = MyClass.instance()\n",
    "println(instance)"
   ]
  },
  {
   "cell_type": "markdown",
   "metadata": {},
   "source": [
    "#### Extension Methods on Java APIs\n",
    "Kotlin provides an extensive standard library in addition to the regular Java APIs. In some cases, Kotlin has added extension methods to existing Java API classes too. For example, Kotlin has added extension methods like `readBytes` and `readText` to the `URL` class in the Java API."
   ]
  },
  {
   "cell_type": "markdown",
   "metadata": {},
   "source": [
    "#### Coroutines\n",
    "Ken didn't dive much into this, but Kotlin supports lightweight threads known as *coroutines*. This is somewhat simliar to the threading model that languages like Erlang use, in that you can have hundreds or thousands of them at once.\n",
    "\n",
    "The following is an example of a coroutine, but it won't work in this notebook with this Kotlin kernel:"
   ]
  },
  {
   "cell_type": "code",
   "execution_count": null,
   "metadata": {},
   "outputs": [],
   "source": [
    "suspend fun test() = coroutineScope {\n",
    "    for (i in 0 until 10) { // Exclusive range\n",
    "        launch {\n",
    "            delay(1000L - i * 10)\n",
    "            print(\"hi$i \")\n",
    "        }\n",
    "    }\n",
    "}"
   ]
  },
  {
   "cell_type": "markdown",
   "metadata": {},
   "source": [
    "#### Using nullable variables\n",
    "When you have a nullable variable, such as one of type `String?`, the `!!` operator can be used to assert that the value is not null. This is not a good idea to do because you are telling the compiler to just assume that variable will never be null, even though it is marked as nullable. It is there, however, for situations where it is needed.\n",
    "\n",
    "A far better operator to use for most cases is the *elvis operator* `?.`, which is discussed in a section above.\n",
    "\n",
    "#### Nothing Type\n",
    "`val abc = null` infers to a special type `Nothing?`. This is a special class in Kotlin that has no members and can't be constructed. An odd behavior is that `Nothing?` is a subclass of every type, which is pretty strange. This means you can assign `Nothing?` to `String?`\n",
    "\n",
    "#### Operator Overloading\n",
    "Kotlin supports a limited form of operator overloading with `operator functions`. The operators (+, -, etc.) will delegate to operator functions of a certain name:\n",
    "\n",
    "```\n",
    "operator fun Complex.plus(c: Complex): Complex = this.add(c) // Extension function to the Complex class with an operator function\n",
    "```\n",
    "\n",
    "#### Delegates\n",
    "Java has built-in language structures for inheritance, but does not have a corresponding language construct for composition. Kotlin does provide a language construct for composition, using the `by` keyword. The `by` keyword delegates behavior to another class.\n",
    "\n",
    "This is a nice way to implement an interface by delegating to another object injected through composition.\n",
    "\n",
    "See Kotlin's [Delegation](https://kotlinlang.org/docs/reference/delegation.html) page for more information on this feature.\n",
    "\n",
    "You have to be careful with changing an object reference when it is used as a delegate. If you change it, Kotlin will keep using the old object when calling the delegate funcction. As a result you really shouldn't use `var` on a delegate object; make it `val` instead.\n",
    "\n",
    "#### Method Names with Backticks\n",
    "If you are using a method name that is a reserved kotlin keyword, such as Hamcrest's `is` method, then you can surround it with backticks to distinguish as a method name.\n",
    "\n",
    "#### Inline Functions\n",
    "Using the `inline` keyword in a function definiton is a signal to the compiler to just inline the function wherever it is used during compile-time.\n",
    "\n",
    "#### Destructuring Data Classes\n",
    "Data classes have `componentN()` methods added to the generated bytecode, which allows them to be automatically destructured into a list of variables."
   ]
  },
  {
   "cell_type": "markdown",
   "metadata": {},
   "source": [
    "### Showing Generated Java\n",
    "In IntelliJ, you can use the *Show Kotlin Bytecodes* option on a Kotlin file. This will show you the generated JVM bytecode. You can then use the *Decompile* option on the bytecode to show the decompiled Java source code. This can give you a nice way to see roughly what is the equivalent Java code for a given Kotlin feature."
   ]
  },
  {
   "cell_type": "markdown",
   "metadata": {},
   "source": [
    "### Other Demo Items\n",
    "Ken showed an example of a Kotlin program compiled using GraalVM. The resulting native binary had a significantly faster startup time. GraalVM is pretty alpha at the moment, but Ken just wanted to show using it.\n",
    "\n",
    "Kotlin scripts have an extension of `.kts` instead of the usual `.kt`. When using this extension, the Kotlin script does not need to have a *main()* function.\n",
    "\n",
    "The superclass of all Kotlin objects is not *Object*, it is *Any*"
   ]
  },
  {
   "cell_type": "markdown",
   "metadata": {},
   "source": [
    "### Takeaways\n",
    "I would like to do the following:\n",
    "\n",
    "* Look at some of my Kotlin code converted to decompiled bytecode to see what Kotlin generated\n",
    "* Learn more about infix methods\n",
    "* Try compiling a Kotlin application with GraalVM\n",
    "* Try using coroutines\n",
    "* Try out delegation in a class"
   ]
  }
 ],
 "metadata": {
  "kernelspec": {
   "display_name": "Kotlin",
   "language": "kotlin",
   "name": "kotlin"
  },
  "language_info": {
   "codemirror_mode": "kotlin",
   "file_extension": ".kt",
   "mimetype": "",
   "name": "Kotlin",
   "nbconverter_exporter": "",
   "version": "1.2.21"
  }
 },
 "nbformat": 4,
 "nbformat_minor": 4
}
