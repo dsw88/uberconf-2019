{
 "cells": [
  {
   "cell_type": "markdown",
   "metadata": {},
   "source": [
    "# Kotlin Fundamentals\n",
    "Ken Kousen\n",
    "\n",
    "Author of \"Kotlin Cookbook\" (available on Safari Books Online in early access). GitHub repository for the cookbook: https://github.com/kousen/kotlin-cookbook\n",
    "\n",
    "### Kotlin highlights\n",
    "JVM language, interoperable with Java\n",
    "Statically typed and statically bound by default\n",
    "Null safety at the compiler level\n",
    "By far the best support for language in IntelliJ\n",
    "\n",
    "Borrows features and syntax from other languages:\n",
    "\n",
    "* Closures from Groovy\n",
    "* Typing similar to Scala\n",
    "* Coroutines similar to .NET (and others)\n",
    "\n",
    "### Kotlin Examples\n",
    "Functions don't need to be in a class, they can be declared at the top-level as well:"
   ]
  },
  {
   "cell_type": "code",
   "execution_count": null,
   "metadata": {},
   "outputs": [],
   "source": [
    "fun printHello() {\n",
    "    val name = \"David\"\n",
    "    println(\"Hello ${name}\")\n",
    "}\n",
    "printHello()"
   ]
  },
  {
   "cell_type": "markdown",
   "metadata": {},
   "source": [
    "The above translates to a JVM class of name *FileNameKT* with the top-level functions as static methods on the class. Kotlin itself doesn't have static methods.\n",
    "\n",
    "*val* is a final variable, and uses type inference to assign the type. *var* is a variable, meaning it can be reassigned.\n",
    "\n",
    "As shown above, Kotlin also supports string interpolation.\n",
    "\n",
    "Semicolons are optional, and are not really encouraged.\n",
    "\n",
    "Classes have a primary constructor defined:"
   ]
  },
  {
   "cell_type": "code",
   "execution_count": null,
   "metadata": {},
   "outputs": [],
   "source": [
    "class Greeter(val name: String) {\n",
    "    fun greet() {\n",
    "        println(\"Hello, $name\")\n",
    "    }\n",
    "}\n",
    "Greeter(\"David\").greet()"
   ]
  },
  {
   "cell_type": "markdown",
   "metadata": {},
   "source": [
    "Coroutines (doesn't work in the notebook)"
   ]
  },
  {
   "cell_type": "code",
   "execution_count": null,
   "metadata": {},
   "outputs": [],
   "source": [
    "suspend fun test() = coroutineScope {\n",
    "    for (i in 0 until 10) { // Exclusive range\n",
    "        launch {\n",
    "            delay(1000L - i * 10)\n",
    "            print(\"hi$i \")\n",
    "        }\n",
    "    }\n",
    "}"
   ]
  },
  {
   "cell_type": "markdown",
   "metadata": {},
   "source": [
    "Can eliminate braces if single statement.\n",
    "\n",
    "Supports default parameters:"
   ]
  },
  {
   "cell_type": "code",
   "execution_count": null,
   "metadata": {},
   "outputs": [],
   "source": [
    "fun sayHello(name: String = \"Dolly\") = \"Hello $name!\"\n",
    "\n",
    "println(sayHello())\n",
    "println(sayHello(\"Again\"))"
   ]
  },
  {
   "cell_type": "markdown",
   "metadata": {},
   "source": [
    "### Basic Syntax\n",
    "\n",
    "var is a variable \n",
    "val is immutable\n",
    "\n",
    "variables are non-null by default: `val name: String = \"David\"`\n",
    "Must declare nullable types using \"?\" after the type: `val name: String? = \"David\"`\n",
    "\n",
    "Has a safe operator `?.` that will return the property or execute the metohd *if* the object is not null\n",
    "\n",
    "Classes can be defined using the keyword *data*:"
   ]
  },
  {
   "cell_type": "code",
   "execution_count": 4,
   "metadata": {},
   "outputs": [
    {
     "data": {
      "text/plain": [
       "Customer(name=Name, email=email)"
      ]
     },
     "execution_count": 4,
     "metadata": {},
     "output_type": "execute_result"
    }
   ],
   "source": [
    "data class Customer(val name: String, val email: String)\n",
    "Customer(\"Name\", \"email\").toString()"
   ]
  },
  {
   "cell_type": "markdown",
   "metadata": {},
   "source": [
    "In addition to positional arguments, can use named arguments too:"
   ]
  },
  {
   "cell_type": "code",
   "execution_count": 7,
   "metadata": {},
   "outputs": [
    {
     "data": {
      "text/plain": [
       "Customer(name=SomeName, email=SomeEmail)"
      ]
     },
     "execution_count": 7,
     "metadata": {},
     "output_type": "execute_result"
    }
   ],
   "source": [
    "Customer(email=\"SomeEmail\", name=\"SomeName\")"
   ]
  },
  {
   "cell_type": "markdown",
   "metadata": {},
   "source": [
    "`==` delegates to the `equals` method. `===` is reference equality:"
   ]
  },
  {
   "cell_type": "markdown",
   "metadata": {},
   "source": [
    "// TODO - Show equals"
   ]
  },
  {
   "cell_type": "markdown",
   "metadata": {},
   "source": [
    "### Showing Generated Java\n",
    "In IntelliJ, use \"Show Kotlin Bytecodes\" on a Kotlin file, then \"Decompile\" the bytecodes. It will show the generated Java from Kotlin"
   ]
  },
  {
   "cell_type": "markdown",
   "metadata": {},
   "source": [
    "Can easily create list and map literals:"
   ]
  },
  {
   "cell_type": "code",
   "execution_count": 14,
   "metadata": {},
   "outputs": [
    {
     "ename": "org.jetbrains.kotlin.cli.common.repl.ReplEvalResult$Incomplete@3aa1217d",
     "evalue": "org.jetbrains.kotlin.cli.common.repl.ReplEvalResult$Incomplete@3aa1217d",
     "output_type": "error",
     "text": "org.jetbrains.kotlin.cli.common.repl.ReplEvalResult$Incomplete@3aa1217d",
     "traceback": [
      "\u001b[1;31morg.jetbrains.kotlin.cli.common.repl.ReplEvalResult$Incomplete@3aa1217d\u001b[0;0m"
     ]
    }
   ],
   "source": [
    "val customer = Customer(\"SomeName\", \"SomeEmail\")\n",
    "val customers = listOf(\n",
    "    customer\n",
    ")\n",
    "\n",
    "val customers = mapOf(\n",
    "    \"Name\" to customer\n",
    ")"
   ]
  },
  {
   "cell_type": "markdown",
   "metadata": {},
   "source": [
    "`to` is an *infix method* that is an *extension method* on the generic type *A* in Pair. Infix methods are specified using the *infix* keyword, and says that the function can be put between the two arguments. This can be nicer syntactically.\n",
    "\n",
    "\n",
    "`:` is used for both `extends` and `implements`\n",
    "\n",
    "`if` is an expression:"
   ]
  },
  {
   "cell_type": "code",
   "execution_count": 15,
   "metadata": {},
   "outputs": [
    {
     "ename": "org.jetbrains.kotlin.cli.common.repl.ReplEvalResult$Incomplete@5c208f7c",
     "evalue": "org.jetbrains.kotlin.cli.common.repl.ReplEvalResult$Incomplete@5c208f7c",
     "output_type": "error",
     "text": "org.jetbrains.kotlin.cli.common.repl.ReplEvalResult$Incomplete@5c208f7c",
     "traceback": [
      "\u001b[1;31morg.jetbrains.kotlin.cli.common.repl.ReplEvalResult$Incomplete@5c208f7c\u001b[0;0m"
     ]
    }
   ],
   "source": [
    "// TODO"
   ]
  },
  {
   "cell_type": "markdown",
   "metadata": {},
   "source": [
    "Supports destructuring when you have multiple return types:"
   ]
  },
  {
   "cell_type": "code",
   "execution_count": 16,
   "metadata": {},
   "outputs": [
    {
     "ename": "org.jetbrains.kotlin.cli.common.repl.ReplEvalResult$Incomplete@28aac24d",
     "evalue": "org.jetbrains.kotlin.cli.common.repl.ReplEvalResult$Incomplete@28aac24d",
     "output_type": "error",
     "text": "org.jetbrains.kotlin.cli.common.repl.ReplEvalResult$Incomplete@28aac24d",
     "traceback": [
      "\u001b[1;31morg.jetbrains.kotlin.cli.common.repl.ReplEvalResult$Incomplete@28aac24d\u001b[0;0m"
     ]
    }
   ],
   "source": [
    "val someMap = mapOf(\n",
    "    \"myKey\" to \"myValue\"\n",
    ")\n",
    "for((k, v) in someMap) { println(\"$k maps to $v\") }"
   ]
  },
  {
   "cell_type": "markdown",
   "metadata": {},
   "source": [
    "Functions have various amounts of verbosity:"
   ]
  },
  {
   "cell_type": "code",
   "execution_count": 17,
   "metadata": {},
   "outputs": [
    {
     "ename": "org.jetbrains.kotlin.cli.common.repl.ReplEvalResult$Incomplete@39ac567c",
     "evalue": "org.jetbrains.kotlin.cli.common.repl.ReplEvalResult$Incomplete@39ac567c",
     "output_type": "error",
     "text": "org.jetbrains.kotlin.cli.common.repl.ReplEvalResult$Incomplete@39ac567c",
     "traceback": [
      "\u001b[1;31morg.jetbrains.kotlin.cli.common.repl.ReplEvalResult$Incomplete@39ac567c\u001b[0;0m"
     ]
    }
   ],
   "source": [
    "fun sum(a: Int, b: Int) = a + b\n",
    "\n",
    "fun sumAgain(a: Int, b: Int): Int {\n",
    "    return a + b\n",
    "}"
   ]
  },
  {
   "cell_type": "markdown",
   "metadata": {},
   "source": [
    "When you use default parameters in Kotlin, the generated bytecode will only have one method when invoked from Java, requiring all the parameters. \n",
    "\n",
    "If you want Java to call with combinations of the default parameters, you can use @JvmOverloads on the method and Kotlin will generate all the overloaded functions in the Java bytecode\n",
    "\n",
    "`when` is much more feature-rich than `switch"
   ]
  },
  {
   "cell_type": "code",
   "execution_count": 18,
   "metadata": {},
   "outputs": [
    {
     "ename": "org.jetbrains.kotlin.cli.common.repl.ReplEvalResult$Incomplete@1b36124a",
     "evalue": "org.jetbrains.kotlin.cli.common.repl.ReplEvalResult$Incomplete@1b36124a",
     "output_type": "error",
     "text": "org.jetbrains.kotlin.cli.common.repl.ReplEvalResult$Incomplete@1b36124a",
     "traceback": [
      "\u001b[1;31morg.jetbrains.kotlin.cli.common.repl.ReplEvalResult$Incomplete@1b36124a\u001b[0;0m"
     ]
    }
   ],
   "source": [
    "// TODO"
   ]
  },
  {
   "cell_type": "markdown",
   "metadata": {},
   "source": [
    "No regular `for` loop, you have `for..in` instead:"
   ]
  },
  {
   "cell_type": "code",
   "execution_count": 20,
   "metadata": {},
   "outputs": [
    {
     "ename": "org.jetbrains.kotlin.cli.common.repl.ReplEvalResult$Incomplete@7f473234",
     "evalue": "org.jetbrains.kotlin.cli.common.repl.ReplEvalResult$Incomplete@7f473234",
     "output_type": "error",
     "text": "org.jetbrains.kotlin.cli.common.repl.ReplEvalResult$Incomplete@7f473234",
     "traceback": [
      "\u001b[1;31morg.jetbrains.kotlin.cli.common.repl.ReplEvalResult$Incomplete@7f473234\u001b[0;0m"
     ]
    }
   ],
   "source": [
    "for(item in collection) print(item)\n",
    "\n",
    "for(i in array.indices) {\n",
    "    print(array[i])\n",
    "}"
   ]
  },
  {
   "cell_type": "markdown",
   "metadata": {},
   "source": [
    "\"Elvis operator\" `?:` allows you to assign a default behavior when a nullable value is null:"
   ]
  },
  {
   "cell_type": "code",
   "execution_count": 21,
   "metadata": {},
   "outputs": [
    {
     "ename": "org.jetbrains.kotlin.cli.common.repl.ReplEvalResult$Incomplete@3aa2e46a",
     "evalue": "org.jetbrains.kotlin.cli.common.repl.ReplEvalResult$Incomplete@3aa2e46a",
     "output_type": "error",
     "text": "org.jetbrains.kotlin.cli.common.repl.ReplEvalResult$Incomplete@3aa2e46a",
     "traceback": [
      "\u001b[1;31morg.jetbrains.kotlin.cli.common.repl.ReplEvalResult$Incomplete@3aa2e46a\u001b[0;0m"
     ]
    }
   ],
   "source": [
    "val s = person.name ?: \"World\""
   ]
  },
  {
   "cell_type": "markdown",
   "metadata": {},
   "source": [
    "Kotlin has lambda expressions. The whole lambda is contained within `{}`, unlike java"
   ]
  },
  {
   "cell_type": "code",
   "execution_count": 22,
   "metadata": {},
   "outputs": [
    {
     "ename": "org.jetbrains.kotlin.cli.common.repl.ReplEvalResult$Incomplete@447b3db9",
     "evalue": "org.jetbrains.kotlin.cli.common.repl.ReplEvalResult$Incomplete@447b3db9",
     "output_type": "error",
     "text": "org.jetbrains.kotlin.cli.common.repl.ReplEvalResult$Incomplete@447b3db9",
     "traceback": [
      "\u001b[1;31morg.jetbrains.kotlin.cli.common.repl.ReplEvalResult$Incomplete@447b3db9\u001b[0;0m"
     ]
    }
   ],
   "source": [
    "max(strings, { a, b -> a.length - b.length })"
   ]
  },
  {
   "cell_type": "markdown",
   "metadata": {},
   "source": [
    "You can also place lambda after parentheses in a method call:"
   ]
  },
  {
   "cell_type": "code",
   "execution_count": 23,
   "metadata": {},
   "outputs": [
    {
     "ename": "org.jetbrains.kotlin.cli.common.repl.ReplEvalResult$Incomplete@17e78295",
     "evalue": "org.jetbrains.kotlin.cli.common.repl.ReplEvalResult$Incomplete@17e78295",
     "output_type": "error",
     "text": "org.jetbrains.kotlin.cli.common.repl.ReplEvalResult$Incomplete@17e78295",
     "traceback": [
      "\u001b[1;31morg.jetbrains.kotlin.cli.common.repl.ReplEvalResult$Incomplete@17e78295\u001b[0;0m"
     ]
    }
   ],
   "source": [
    "max(strings) { a, b -> a.length - b.length }"
   ]
  },
  {
   "cell_type": "markdown",
   "metadata": {},
   "source": [
    "Unlike Java returning functional interfaces, the return type of a lambda is special:"
   ]
  },
  {
   "cell_type": "code",
   "execution_count": 24,
   "metadata": {},
   "outputs": [
    {
     "ename": "org.jetbrains.kotlin.cli.common.repl.ReplEvalResult$Incomplete@70a6b239",
     "evalue": "org.jetbrains.kotlin.cli.common.repl.ReplEvalResult$Incomplete@70a6b239",
     "output_type": "error",
     "text": "org.jetbrains.kotlin.cli.common.repl.ReplEvalResult$Incomplete@70a6b239",
     "traceback": [
      "\u001b[1;31morg.jetbrains.kotlin.cli.common.repl.ReplEvalResult$Incomplete@70a6b239\u001b[0;0m"
     ]
    }
   ],
   "source": [
    "someFunc(): (Int, String) -> Int"
   ]
  },
  {
   "cell_type": "markdown",
   "metadata": {},
   "source": [
    "If a single argument in the lambda, you can use `it` to reference the variable:"
   ]
  },
  {
   "cell_type": "code",
   "execution_count": 28,
   "metadata": {},
   "outputs": [
    {
     "data": {
      "text/plain": [
       "[1, 2, 3]"
      ]
     },
     "execution_count": 28,
     "metadata": {},
     "output_type": "execute_result"
    }
   ],
   "source": [
    "val ints = listOf(1, 2, 3)\n",
    "ints.filter { it > 0 }"
   ]
  },
  {
   "cell_type": "markdown",
   "metadata": {},
   "source": [
    "Kotlin lambdas are closures. Unlike Java, you can modify local variables in the enclosing scope.\n",
    "\n",
    "`object` defines a singleton class:"
   ]
  },
  {
   "cell_type": "code",
   "execution_count": 29,
   "metadata": {},
   "outputs": [
    {
     "data": {
      "text/plain": [
       "null"
      ]
     },
     "execution_count": 29,
     "metadata": {},
     "output_type": "execute_result"
    }
   ],
   "source": [
    "object MyObject {\n",
    "    //\n",
    "}"
   ]
  },
  {
   "cell_type": "markdown",
   "metadata": {},
   "source": [
    "Companion objects are the way to use statics in a class:"
   ]
  },
  {
   "cell_type": "code",
   "execution_count": 30,
   "metadata": {},
   "outputs": [
    {
     "data": {
      "text/plain": [
       "null"
      ]
     },
     "execution_count": 30,
     "metadata": {},
     "output_type": "execute_result"
    }
   ],
   "source": [
    "class MyClass {\n",
    "    companion object { \n",
    "        fun instance() = MyClass()\n",
    "    }\n",
    "}\n",
    "\n",
    "val instance = MyClass.instance()"
   ]
  },
  {
   "cell_type": "markdown",
   "metadata": {},
   "source": [
    "Kotlin has added extension methods to existing Java API clases. For example, `URL` has added extension methods like `readBytes` and `readText`"
   ]
  },
  {
   "cell_type": "code",
   "execution_count": null,
   "metadata": {},
   "outputs": [],
   "source": []
  }
 ],
 "metadata": {
  "kernelspec": {
   "display_name": "Kotlin",
   "language": "kotlin",
   "name": "kotlin"
  },
  "language_info": {
   "codemirror_mode": "kotlin",
   "file_extension": ".kt",
   "mimetype": "",
   "name": "Kotlin",
   "nbconverter_exporter": "",
   "version": "1.2.21"
  }
 },
 "nbformat": 4,
 "nbformat_minor": 2
}
