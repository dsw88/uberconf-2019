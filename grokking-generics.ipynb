{
 "cells": [
  {
   "cell_type": "markdown",
   "metadata": {},
   "source": [
    "# Grokking Generics\n",
    "I attended the session *Grokking Generics* by Daniel Hinojosa at *UberConf 2019*. He did a great job covering some of the more arcane aspects of generics.\n",
    "\n",
    "I didn't take many notes because most of it was running code examples and I was focused on understanding it. However, Daniel has posted the code he demoed to a GitHub repository: https://github.com/dhinojosa/generics-study. I highly recommend looking at some of the unit tests there that illustrate how things like *super* and *extends* in generics behave."
   ]
  }
 ],
 "metadata": {
  "kernelspec": {
   "display_name": "Java",
   "language": "java",
   "name": "java"
  },
  "language_info": {
   "codemirror_mode": "java",
   "file_extension": ".jshell",
   "mimetype": "text/x-java-source",
   "name": "Java",
   "pygments_lexer": "java",
   "version": "11.0.4+11-LTS"
  }
 },
 "nbformat": 4,
 "nbformat_minor": 2
}
