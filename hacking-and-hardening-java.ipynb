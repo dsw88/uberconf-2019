{
 "cells": [
  {
   "cell_type": "markdown",
   "metadata": {},
   "source": [
    "# Hacking and Hardening Java\n",
    "This notebook contains my notes from the *Hacking and Hardening Java* presentation by Christopher Judd at *UberConf 2019* \n",
    "\n",
    "Christopher said he used to think he knew a lot about security. Then someone showed him a Pineapple WiFi device and it blew his mind. Next he read the [Penetration Testing: Hands-on Introduction to Hacking](https://www.amazon.com/Penetration-Testing-Hands-Introduction-Hacking/dp/1593275641/) book at that scared him even more.\n",
    "\n",
    "**WARNING**: Christopher was very clear that most of the techniques he discussed today are ones that will land you in jail if used inappropriately and without permission. That seems pretty self-evident to me, but ye be warned who are reading these notes. Don't use them on anyone but yourself without permission!\n",
    "\n",
    "### Security Tools\n",
    "The main security testing tool he talked about is [Kali Linux](https://www.kali.org/). It is a Linux distribution that comes with multiple security testing tools:\n",
    "\n",
    "* Zen Attack Proxy (ZAP)\n",
    "* CRS test\n",
    "* sqlmap\n",
    "* metasploit\n",
    "\n",
    "He wrote a purposely vulnerable Spring Boot application at https://github.com/cjudd/wordyninjablog. The above tools can be used to help find exploits in that application.\n",
    "\n",
    "He discussed the vulnerabilities on the [OWASP Top 10](https://www.owasp.org/images/7/72/OWASP_Top_10-2017_%28en%29.pdf.pdf) list.\n",
    "\n",
    "### Injection\n",
    "One of the vulnerabilities he spent the most time on was injection attacks. \n",
    "\n",
    "Injection occurs when untrusted data is sent to an interpreter as part of a command. The hostile input can trick the interpreter into executing unintended commands without proper authorization. SQL injection is a common form of this. Things like using eval() probably fall under this category as well.\n",
    "\n",
    "#### SQL Injection\n",
    "Christopher said that an eaasy way to test for SQL injection is to use `';` as input. That should cause an error of some kind if there is a vulnerability.\n",
    "\n",
    "[sqlmap](http://sqlmap.org/) is a Python utility you can use for testing for SQL injection vulnerabilities. You don't need to have sophisticated knowledge of the different types of SQL injection attacks. It will infer pretty much everything for you and check many different types of vulnerabilities.\n",
    "\n",
    "There are two main ways to fix SQL injection vulnerabilities:\n",
    "* Use parameterized queries\n",
    "* Properly encoding untrusted input\n",
    "\n",
    "### Other\n",
    "[ssllabs.com](https://www.ssllabs.com/) can be used to check certificates on sites. Christopher says: \"This is one of the few security tools you can use without going to jail.\"\n",
    "\n",
    "### Takeaways\n",
    "* I'd like to try out Kali Linux and some of the tools inside it. Don't worry, I'll only run them against things running on my local machine. :)"
   ]
  }
 ],
 "metadata": {
  "kernelspec": {
   "display_name": "Java",
   "language": "java",
   "name": "java"
  },
  "language_info": {
   "codemirror_mode": "text/x-java",
   "file_extension": ".java",
   "mimetype": "",
   "name": "Java",
   "nbconverter_exporter": "",
   "version": "1.8.0_121"
  }
 },
 "nbformat": 4,
 "nbformat_minor": 2
}
